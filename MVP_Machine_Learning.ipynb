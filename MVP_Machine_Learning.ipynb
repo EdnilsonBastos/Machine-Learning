{
  "cells": [
    {
      "cell_type": "markdown",
      "metadata": {
        "id": "cmYX3PLx58Jg"
      },
      "source": [
        "# MVP Sprint: Machine Learning & Analytics\n",
        "\n",
        "**Nome:** Ednilson Bastos do Amaral\n",
        "\n",
        "**Matrícula:** 40530010055_20250_01\n",
        "\n",
        "**Dataset:** cancer de pulmão (https://www.kaggle.com/datasets/amankumar094/lung-cancer-dataset/data)\n",
        "\n"
      ]
    },
    {
      "cell_type": "markdown",
      "metadata": {
        "id": "YW_JS-EEBFaR"
      },
      "source": [
        "# Descrição do Problema\n",
        "\n",
        "Este conjunto de dados contém dados sobre mortalidade por câncer de pulmão e é uma coleção abrangente de\n",
        "informações sobre pacientes, com foco específico em indivíduos diagnosticados com câncer. Este conjunto de dados contém informações abrangentes sobre 222.684 indivíduos relacionadas ao diagnóstico, tratamento e desfechos do câncer de pulmão. Com 17 colunas bem estruturadas, este conjunto de dados em larga escala foi projetado para auxiliar pesquisadores, cientistas de dados e profissionais de saúde no estudo de padrões, na construção de modelos preditivos e no aprimoramento de estratégias de detecção precoce e tratamento."
      ]
    },
    {
      "cell_type": "markdown",
      "metadata": {
        "id": "Gm6mOo5PBYwr"
      },
      "source": [
        "## Hipóteses do Problema\n",
        "\n",
        "As hipóteses traçadas são as seguintes:\n",
        "\n",
        "1. ***O índice de massa corporal do paciente, O nível de colesterol do paciente, a hipertensão arterial e a sobrevivência tem correlação?***\n",
        "\n",
        "2. ***Considerando idade (jovens, adultos, idosos), quais grupos demográficos são mais vulneráveis ao câncer de pulmão?***\n",
        "\n",
        "3. ***Taxa de sobrevida por tipo de tratamento com grupo etário (jovens, adultos, idosos)?***"
      ]
    },
    {
      "cell_type": "markdown",
      "metadata": {
        "id": "x1zNNZt6BfdF"
      },
      "source": [
        "## Tipo de Problema ##\n",
        "\n",
        "Este é um problema de **classificação supervisionada**. A problemática central desta investigação reside em três pilares: a determinação da correlação e do impacto de fatores biométricos e cardiovasculares na sobrevida dos indivíduos; a identificação de grupos de risco específicos por idade; e a análise aprofundada do prognóstico (sobrevida) e da eficácia dos tratamentos considerando distintos subgrupos etários."
      ]
    },
    {
      "cell_type": "markdown",
      "metadata": {
        "id": "N91bTLbiBxrm"
      },
      "source": [
        "## Seleção de Dados\n",
        "\n",
        "O dataset câncer de pulmão é um conjunto de dados amplamente disponível e frequentemente incluído em bibliotecas de aprendizado de máquina, como *scikit-learn* no Python. Não é necessária uma etapa de seleção de dados externa, porém os dados terão que passar pelo processo de limpeza, pré-processamento  e transformação para os dados ficarem prontos para o aprendizado de máquina."
      ]
    },
    {
      "cell_type": "markdown",
      "metadata": {
        "id": "FC6QJHhWBnzH"
      },
      "source": [
        "## Atributos do Dataset\n",
        "\n",
        "O dataset câncer de pulmão contém 222.684 mil amostras, Possui 17 atributos:\n",
        "\n",
        "- ***id*** - Um identificador exclusivo para cada paciente no conjunto de dados.\n",
        "- ***age*** - A idade do paciente no momento do diagnóstico.\n",
        "- ***gender*** - O sexo do paciente (por exemplo, masculino, feminino).\n",
        "- ***country:*** - O país ou região onde o paciente reside.\n",
        "- ***diagnosis_date*** - A data em que o paciente foi diagnosticado com câncer de pulmão.\n",
        "- ***cancer_stage*** - O estágio do câncer de pulmão no momento do diagnóstico (por exemplo, Estágio I, Estágio II,Estágio III, Estágio IV).\n",
        "- ***family_history*** - Indica se há histórico familiar de câncer (por exemplo, sim, não).\n",
        "- ***smoking_status*** - O status de fumante do paciente (por exemplo, fumante atual, ex-fumante,nunca fumou, fumante passivo).\n",
        "- ***bmi*** - O índice de massa corporal do paciente no momento do diagnóstico.\n",
        "- ***cholesterol_level*** - O nível de colesterol do paciente (valor).\n",
        "- ***hypertension*** - indica se o paciente tem hipertensão (pressão alta) (por exemplo,sim, não).\n",
        "- ***asthma*** - indica se o paciente tem asma (por exemplo, sim, não).\n",
        "- ***cirrhosis*** - indica se o paciente tem cirrose hepática (por exemplo, sim, não).\n",
        "- ***other_cancer*** - indica se o paciente teve algum outro tipo de câncer além\n",
        "do diagnóstico principal (por exemplo, sim, não).\n",
        "- ***treatment_type*** - o tipo de tratamento que o paciente recebeu (por exemplo, cirurgia, quimioterapia, radiação, combinado).\n",
        "- ***end_treatment_date*** - a data em que o paciente concluiu o tratamento contra o câncer.\n",
        "- ***survived*** - indica se o paciente sobreviveu (por exemplo, sim, não).\n",
        "'"
      ]
    },
    {
      "cell_type": "markdown",
      "metadata": {
        "id": "DObGnkf0bJBh"
      },
      "source": [
        "# Importação das Bibliotecas Necessárias e Carga de Dados\n",
        "\n",
        "Esta seção consolida todas as importações de bibliotecas necessárias para a análise, visualização e pré-processamento dos dados, bem como o carregamento inicial do dataset cãncer de pulmão."
      ]
    },
    {
      "cell_type": "code",
      "execution_count": 1,
      "metadata": {
        "id": "tCohWn2jbkDB"
      },
      "outputs": [],
      "source": [
        "import pandas as pd\n",
        "import numpy as np\n",
        "import matplotlib.pyplot as plt\n",
        "import seaborn as sns\n",
        "\n",
        "from sklearn.preprocessing import StandardScaler, MinMaxScaler, OneHotEncoder\n",
        "from sklearn.decomposition import PCA\n",
        "from sklearn.compose import ColumnTransformer\n",
        "\n",
        "\n",
        "from sklearn.model_selection import cross_val_score # para executar a validação cruzada\n",
        "from sklearn.metrics import accuracy_score # para a exibição da acurácia do modelo\n",
        "from sklearn.neighbors import KNeighborsClassifier # algoritmo KNN\n",
        "from sklearn.tree import DecisionTreeClassifier # algoritmo Árvore de Classificação\n",
        "from sklearn.naive_bayes import GaussianNB # algoritmo Naive Bayes\n",
        "from sklearn.svm import SVC # algoritmo SVM\n",
        "\n",
        "import os, random, time, sys, math\n",
        "import time\n",
        "from sklearn.model_selection import train_test_split, TimeSeriesSplit\n",
        "from sklearn.compose import ColumnTransformer\n",
        "from sklearn.preprocessing import OneHotEncoder, StandardScaler\n",
        "from sklearn.impute import SimpleImputer\n",
        "from sklearn.pipeline import Pipeline\n",
        "from sklearn.dummy import DummyClassifier, DummyRegressor\n",
        "from sklearn.linear_model import LogisticRegression, Ridge\n",
        "from sklearn.ensemble import RandomForestClassifier, RandomForestRegressor\n",
        "from sklearn.cluster import KMeans\n",
        "from sklearn.metrics import (accuracy_score, f1_score, roc_auc_score, confusion_matrix,\n",
        "                             mean_absolute_error, mean_squared_error, r2_score,\n",
        "                             silhouette_score)\n",
        "\n",
        "from sklearn.model_selection import StratifiedKFold, KFold, TimeSeriesSplit, RandomizedSearchCV\n",
        "from scipy.stats import randint, uniform\n",
        "import time\n",
        "from sklearn.ensemble import BaggingClassifier\n",
        "from sklearn.ensemble import RandomForestClassifier\n",
        "from sklearn.ensemble import ExtraTreesClassifier\n",
        "\n",
        "\n",
        "from sklearn.model_selection import GridSearchCV\n",
        "\n",
        "from sklearn.ensemble import ExtraTreesClassifier # ExtraTrees, para a Importância de Atributos\n",
        "from sklearn.feature_selection import SelectKBest # para a Seleção Univariada\n",
        "from sklearn.feature_selection import f_classif # para o teste ANOVA da Seleção Univariada\n",
        "from sklearn.model_selection import StratifiedKFold, cross_validate\n",
        "\n",
        "from imblearn.over_sampling import SMOTE\n",
        "from imblearn.pipeline import Pipeline as ImbPipeline\n",
        "\n",
        "from sklearn.metrics import classification_report\n"
      ]
    },
    {
      "cell_type": "code",
      "execution_count": 2,
      "metadata": {
        "id": "fJ-_jqSYlqAP"
      },
      "outputs": [],
      "source": [
        "# configuração para não exibir os warnings\n",
        "import warnings\n",
        "warnings.filterwarnings(\"ignore\")"
      ]
    },
    {
      "cell_type": "markdown",
      "metadata": {
        "id": "04SxjtX9Oi68"
      },
      "source": [
        "# Cria as classes para carregamento e Tratamento do dados - princípios SOLID"
      ]
    },
    {
      "cell_type": "code",
      "execution_count": 3,
      "metadata": {
        "id": "BIokzI3xb8_t"
      },
      "outputs": [],
      "source": [
        "# Crei uma classe carregador com um método \"carrega_dataset\" para carregar os dados do dataset cancer pulmão\n",
        "class Carregador:\n",
        "  def carrega_dataset(url:str, colunas:list):\n",
        "    # Lê o arquivo utilizando as colunas informadas\n",
        "    dataset = pd.read_csv(url, names=colunas, skiprows=1, delimiter=',')\n",
        "\n",
        "    # guardo o dataset em um dataframe\n",
        "    df = pd.DataFrame(data=dataset, columns=colunas)\n",
        "\n",
        "    return df\n"
      ]
    },
    {
      "cell_type": "code",
      "execution_count": 4,
      "metadata": {
        "id": "LqiX_cidA-GK"
      },
      "outputs": [],
      "source": [
        "class Analisador:\n",
        "  def totalinstancia(dados):\n",
        "    print(f\"Total de instâncias: {len(dados)}\")\n",
        "\n",
        "  def tipodados(dados):\n",
        "    print(\"\\nTipos de dados por coluna:\")\n",
        "    print(dados.info())\n",
        "\n",
        "  def mostralinhas(dados,qtd,posicao):\n",
        "    #P = Printa as  primeiras Linhas\n",
        "    if posicao == 'P':\n",
        "     return  dados.head(qtd)\n",
        "    else:\n",
        "      #Printa as ultimas\n",
        "      return dados.tail(qtd)\n",
        "\n",
        "  def evaluate_classification(y_true, y_pred, proba=None):\n",
        "    acc = accuracy_score(y_true, y_pred)\n",
        "    f1w = f1_score(y_true, y_pred, average=\"weighted\")\n",
        "    auc = roc_auc_score(y_true, proba[:,1]) if (proba is not None and proba.shape[1]==2) else np.nan\n",
        "    return {\"accuracy\": acc, \"f1_weighted\": f1w, \"roc_auc\": auc}\n",
        "\n",
        "  def evaluate_regression(y_true, y_pred):\n",
        "      mae = mean_absolute_error(y_true, y_pred)\n",
        "      mse = mean_squared_error(y_true, y_pred)\n",
        "      rmse = np.sqrt(mse)\n",
        "      r2 = r2_score(y_true, y_pred)\n",
        "      return {\"MAE\": mae, \"RMSE\": rmse, \"R2\": r2}\n",
        "\n",
        "  def evaluate_clustering(X_original, model):\n",
        "      # Silhouette requer >1 cluster e dados transformados\n",
        "      try:\n",
        "          if hasattr(model.named_steps[\"pre\"], \"transform\"):\n",
        "              X_emb = model.named_steps[\"pre\"].fit_transform(X_original)  # cuidado: apenas para demo\n",
        "          else:\n",
        "              X_emb = X_original\n",
        "          labels = model.named_steps[\"model\"].fit_predict(X_emb)\n",
        "          sil = silhouette_score(X_emb, labels)\n",
        "          return {\"silhouette\": sil}\n",
        "      except Exception as e:\n",
        "          return {\"silhouette\": np.nan, \"erro\": str(e)}\n"
      ]
    },
    {
      "cell_type": "code",
      "execution_count": 5,
      "metadata": {
        "id": "ynL60fMpY7QL"
      },
      "outputs": [],
      "source": [
        "class Estatistica:\n",
        "  def dadosestatistico(dados):\n",
        "    return dados.describe()\n",
        "\n",
        "  def media(dados):\n",
        "    return dados.describe().loc['mean']\n",
        "\n",
        "  def desviopadrao(dados):\n",
        "    return dados.describe().loc['std']\n",
        "\n"
      ]
    },
    {
      "cell_type": "code",
      "execution_count": 6,
      "metadata": {
        "id": "X6jirSLcpkDm"
      },
      "outputs": [],
      "source": [
        "class tratamentolimpeza:\n",
        "  def mosranulos(dados):\n",
        "      return dados.isnull().sum()\n",
        "\n",
        "  def alteratipoidade(dados):\n",
        "     dados['age'] = dados['age'].astype(int)\n",
        "\n",
        "\n",
        "  def agrupa_idade_tratamento(dados):\n",
        "    dados_grupo = dados.groupby(['faixa_etaria', 'treatment_type'])['survived'].mean().unstack()\n",
        "    return dados_grupo\n",
        "\n",
        "  def classificacao_idade(age):\n",
        "    if age <= 30:\n",
        "        return 'Jovem'\n",
        "    elif 31 <= age <= 60:\n",
        "        return 'Meia idade'\n",
        "    else:\n",
        "        return 'Idoso'\n",
        "\n",
        "  def grupo_idade(dados):\n",
        "      def categoria_idade(age):\n",
        "          if age <= 30:\n",
        "              return 'Jovem'\n",
        "          elif 31 >= age <= 60:\n",
        "              return 'Meia idade'\n",
        "          else:\n",
        "              return 'Idoso'\n",
        "      dados['idade_grupo'] = dados['age'].apply(categoria_idade)\n",
        "      df_grupoidade = dados.groupby('idade_grupo')['survived'].mean().sort_values(ascending=True )\n",
        "      return  df_grupoidade\n",
        "\n",
        "\n"
      ]
    },
    {
      "cell_type": "code",
      "source": [
        "class graficos_geral:\n",
        "  def grf_hetmeap(dados,colunas,titulo):\n",
        "    #Verificar a correlação entres os atributos usando o gráfico do tipo hetmap\n",
        "    correlation_matrix = dados[colunas].corr()\n",
        "    plt.figure(figsize=(7,5))\n",
        "    sns.heatmap(correlation_matrix, annot=True, fmt='.2f', cmap='coolwarm')\n",
        "    plt.title(titulo,fontsize=10)\n",
        "    plt.tight_layout()\n",
        "    plt.show()\n",
        "\n",
        "  def grf_histograma(dados,titulo,xlabel,ylabel):\n",
        "    plt.figure(figsize=(7, 5))\n",
        "    sns.histplot(dados['age'], bins=20, kde=True)\n",
        "    plt.title(titulo,fontsize=10)\n",
        "    plt.xlabel(xlabel)\n",
        "    plt.ylabel(ylabel)\n",
        "    plt.grid(True)\n",
        "    plt.show()\n",
        "\n",
        "  def grf_barras(dados,variaveis, valores_medios, titulo,xlabel,ylabel):\n",
        "    # Criando o gráfico de barras\n",
        "    plt.figure(figsize=(7, 5)) # Ajuste o tamanho do gráfico para melhor visualização\n",
        "    plt.bar(variaveis, valores_medios, color='skyblue')\n",
        "\n",
        "    # Adicionando rótulos e título\n",
        "    plt.xlabel(xlabel)\n",
        "    plt.ylabel(ylabel)\n",
        "    plt.title(titulo)\n",
        "    plt.xticks(rotation=45, ha='right') # Rotaciona os rótulos do eixo X para melhor leitura\n",
        "    plt.grid(axis='y', linestyle='--', alpha=0.7) # Adiciona um grid horizontal para facilitar a leitura dos valores\n",
        "\n",
        "    plt.tight_layout() # Ajusta o layout para evitar cortes nos rótulos\n",
        "    plt.show()\n",
        "\n",
        "  def grf_barras_plot(dados,titulo,xlabel,ylabel,rotaciona):\n",
        "\n",
        "    plt.figure(figsize=(7, 5)) # Define o tamanho da figura\n",
        "    sns.barplot(x='Variável', y='Desvio Padrão', data=dados, palette='viridis') # Cria o gráfico de barras\n",
        "\n",
        "    plt.title(titulo, fontsize=16)\n",
        "    plt.xlabel(xlabel, fontsize=12)\n",
        "    plt.ylabel(ylabel, fontsize=12)\n",
        "\n",
        "    # Rotaciona os rótulos do eixo X se necessário para melhor legibilidade\n",
        "    plt.xticks(rotation=rotaciona, ha='right') # ha='right' alinha o texto à direita da marca\n",
        "\n",
        "    # Adiciona o valor do desvio padrão em cima de cada barra (opcional, mas útil)\n",
        "    for index, row in dados.iterrows():\n",
        "      plt.text(index, row['Desvio Padrão'] + 1, round(row['Desvio Padrão'], 2),\n",
        "             color='black', ha=\"center\", va='bottom', fontsize=10) # +1 para não colar na barra\n",
        "\n",
        "    plt.grid(axis='y', linestyle='--', alpha=0.7) # Adiciona uma grade horizontal para facilitar a leitura\n",
        "    plt.tight_layout() # Ajusta o layout para evitar sobreposição\n",
        "    plt.show()\n",
        "\n",
        "\n",
        "\n",
        "  def grf_barras_empilhadas(dados,titulo,xlabel,ylabel, legenda):\n",
        "    dados.plot(kind='bar', stacked=True, figsize=(7, 5))\n",
        "    plt.title(titulo, fontsize=12)\n",
        "    plt.xlabel(xlabel, fontsize=8)\n",
        "    plt.ylabel(ylabel, fontsize=8)\n",
        "    plt.ylim(0, 1)\n",
        "    plt.legend(title=legenda, bbox_to_anchor=(1.05, 1), loc='upper left')\n",
        "    plt.tight_layout()\n",
        "    plt.show()\n",
        "\n",
        "  def grf_distribuicao(dados):\n",
        "      dados.hist(figsize = (7,5))\n",
        "      plt.show()\n"
      ],
      "metadata": {
        "id": "ncXl-KTS6SFU"
      },
      "execution_count": 7,
      "outputs": []
    },
    {
      "cell_type": "markdown",
      "source": [
        "# Carrega os dados do github para o dataframe"
      ],
      "metadata": {
        "id": "N7h1LAJOK3_F"
      }
    },
    {
      "cell_type": "code",
      "execution_count": 10,
      "metadata": {
        "id": "YK3YkiAjIllX"
      },
      "outputs": [],
      "source": [
        "#Faz a instancia da classe Carregador\n",
        "carregador = Carregador()\n",
        "\n",
        "#caminho no github para carregar o arquivo \"cancer_pulmao.csv\".\n",
        "url = \"https://raw.githubusercontent.com/EdnilsonBastos/Analise_exploratoria/refs/heads/main/cancer_pulmao.csv\"\n",
        "\n",
        "#atributos do arquivo \"cancer_pulmao.csv\"\n",
        "colunas = ['id','age','gender','country','diagnosis_date','cancer_stage','family_history','smoking_status','bmi','cholesterol_level','hypertension','asthma','cirrhosis','other_cancer','treatment_type','end_treatment_date','survived']\n",
        "\n",
        "#Chama o método \"carrega_dataset\" que é um método que esta na classe Carregador que vai carregar os dados para o dataset \"cancer\" .\n",
        "df = Carregador.carrega_dataset(url=url,colunas=colunas)\n",
        "\n"
      ]
    },
    {
      "cell_type": "markdown",
      "metadata": {
        "id": "by6vI_HLU700"
      },
      "source": [
        "#Seleção das colunas  para análise exploratória"
      ]
    },
    {
      "cell_type": "code",
      "execution_count": 11,
      "metadata": {
        "id": "fkn4ljnAUJwU"
      },
      "outputs": [],
      "source": [
        "# Lista com os nomes das colunas que você quer selecionar\n",
        "colunas_selecionadas = ['age', 'bmi','cholesterol_level','hypertension','treatment_type', 'survived']\n",
        "\n",
        "#colunas_selecionadas = ['age','gender','cancer_stage','family_history','smoking_status','bmi','cholesterol_level','hypertension','asthma','cirrhosis','other_cancer','treatment_type','survived']\n",
        "\n",
        "# Cria um novo DataFrame contendo apenas as colunas selecionadas\n",
        "df_cancer = df[colunas_selecionadas].copy()\n",
        "\n",
        "\n"
      ]
    },
    {
      "cell_type": "code",
      "execution_count": 12,
      "metadata": {
        "colab": {
          "base_uri": "https://localhost:8080/"
        },
        "id": "AKb_BDQ6E6sR",
        "outputId": "de5e6ba3-4048-4276-e850-e62787d6a062"
      },
      "outputs": [
        {
          "output_type": "stream",
          "name": "stdout",
          "text": [
            "Resultado 5 primeiras linhas do dataframe\n",
            "    age   bmi  cholesterol_level  hypertension treatment_type  survived\n",
            "0  64.0  29.4                199             0   Chemotherapy         0\n",
            "1  50.0  41.2                280             1        Surgery         1\n",
            "2  65.0  44.0                268             1       Combined         0\n",
            "3  51.0  43.0                241             1   Chemotherapy         0\n",
            "4  37.0  19.7                178             0       Combined         0\n"
          ]
        }
      ],
      "source": [
        "#  5 primeiras linhas\n",
        "print(\"Resultado 5 primeiras linhas do dataframe\")\n",
        "resultado_mostralinha= Analisador.mostralinhas(df_cancer,5,'P')\n",
        "print(resultado_mostralinha)\n"
      ]
    },
    {
      "cell_type": "code",
      "source": [
        "df_hist =df_cancer[['age','bmi','cholesterol_level']]\n",
        "graficos_geral.grf_distribuicao(df_hist)"
      ],
      "metadata": {
        "colab": {
          "base_uri": "https://localhost:8080/",
          "height": 468
        },
        "id": "rJR6AN7BlsYT",
        "outputId": "532b84b6-746d-4f50-a825-6c9647538912"
      },
      "execution_count": null,
      "outputs": [
        {
          "output_type": "display_data",
          "data": {
            "text/plain": [
              "<Figure size 700x500 with 4 Axes>"
            ],
            "image/png": "[encoded data removed]"
          },
          "metadata": {}
        }
      ]
    },
    {
      "cell_type": "markdown",
      "source": [
        "A distribuição da idade mostra uma concentração de indivíduos em torno da meia-idade. Há um pico proeminente entre 50 e 60 anos."
      ],
      "metadata": {
        "id": "b_WDqB6vj7_D"
      }
    },
    {
      "cell_type": "markdown",
      "source": [
        " A distribuição do BMI é notavelmente uniforme ou retangular."
      ],
      "metadata": {
        "id": "uxIaylcDkkzb"
      }
    },
    {
      "cell_type": "markdown",
      "source": [
        "A distribuição do nível de colesterol é peculiar e não segue um padrão comum como a distribuição normal."
      ],
      "metadata": {
        "id": "hvNn5Yn7kfNE"
      }
    },
    {
      "cell_type": "code",
      "execution_count": 13,
      "metadata": {
        "colab": {
          "base_uri": "https://localhost:8080/"
        },
        "id": "ZLPM4Nvm_Xni",
        "outputId": "5719ab33-b2f9-4d39-8df0-1d43c028b261"
      },
      "outputs": [
        {
          "output_type": "stream",
          "name": "stdout",
          "text": [
            "Resultado 5 ultimas linhas do dataframe\n",
            "         age   bmi  cholesterol_level  hypertension treatment_type  survived\n",
            "222679  66.0  36.8                263             1       Combined         0\n",
            "222680  63.0  43.6                251             1        Surgery         0\n",
            "222681  59.0  31.3                253             1   Chemotherapy         0\n",
            "222682  61.0  35.7                287             1        Surgery         0\n",
            "222683  47.0  21.0                184             1        Surgery         1\n"
          ]
        }
      ],
      "source": [
        "# 5 últimas linhas\n",
        "print(\"Resultado 5 ultimas linhas do dataframe\")\n",
        "resultado_mostralinha= Analisador.mostralinhas(df_cancer,5,'')\n",
        "print(resultado_mostralinha)"
      ]
    },
    {
      "cell_type": "markdown",
      "metadata": {
        "id": "XcHpQ9s_B4n1"
      },
      "source": [
        "# Análise de Dados\n",
        "\n",
        "Nesta etapa de Análise de Dados Exploratória (EDA) sobre o dataset câncer de pulmão, visamos entender a distribuição, as relações e as características das variáveis, o que é crucial para as etapas subsequentes de pré-processamento e modelagem."
      ]
    },
    {
      "cell_type": "markdown",
      "metadata": {
        "id": "5kuan1F5EA8J"
      },
      "source": [
        "## Total e Tipo das Instâncias\n",
        "\n",
        "O dataset câncer de pulmão possui 222.684 instâncias, sendo que o atributo  (bmi,age) é float, os atributos(cholesterol_level,hypertension,survived) são de tipo numérico (int), enquanto o atributo (treatment_type, idade_grupo(*atributo criado)) são categóricos."
      ]
    },
    {
      "cell_type": "code",
      "execution_count": 14,
      "metadata": {
        "colab": {
          "base_uri": "https://localhost:8080/"
        },
        "id": "3asH5qmbHKVe",
        "outputId": "272cccdd-f065-4033-ed4f-ea7712ed5d44"
      },
      "outputs": [
        {
          "output_type": "stream",
          "name": "stdout",
          "text": [
            "Total de instâncias: 222684\n",
            "None\n"
          ]
        }
      ],
      "source": [
        "resultado_instancia =  Analisador.totalinstancia(df_cancer)\n",
        "print(resultado_instancia)"
      ]
    },
    {
      "cell_type": "code",
      "execution_count": 15,
      "metadata": {
        "colab": {
          "base_uri": "https://localhost:8080/"
        },
        "id": "cCb5maxlGGmU",
        "outputId": "cdc856d5-577e-42cd-e573-229f8c8d93aa"
      },
      "outputs": [
        {
          "output_type": "stream",
          "name": "stdout",
          "text": [
            "\n",
            "Tipos de dados por coluna:\n",
            "<class 'pandas.core.frame.DataFrame'>\n",
            "RangeIndex: 222684 entries, 0 to 222683\n",
            "Data columns (total 6 columns):\n",
            " #   Column             Non-Null Count   Dtype  \n",
            "---  ------             --------------   -----  \n",
            " 0   age                222684 non-null  float64\n",
            " 1   bmi                222684 non-null  float64\n",
            " 2   cholesterol_level  222684 non-null  int64  \n",
            " 3   hypertension       222684 non-null  int64  \n",
            " 4   treatment_type     222684 non-null  object \n",
            " 5   survived           222684 non-null  int64  \n",
            "dtypes: float64(2), int64(3), object(1)\n",
            "memory usage: 10.2+ MB\n",
            "None\n",
            "None\n"
          ]
        }
      ],
      "source": [
        "resultado_tipo =  Analisador.tipodados(df_cancer)\n",
        "print(resultado_tipo)"
      ]
    },
    {
      "cell_type": "code",
      "execution_count": 16,
      "metadata": {
        "colab": {
          "base_uri": "https://localhost:8080/"
        },
        "id": "MnRqOiUzHGL8",
        "outputId": "76f8c930-bcad-470e-b082-04852fdf09d6"
      },
      "outputs": [
        {
          "output_type": "stream",
          "name": "stdout",
          "text": [
            "Mostra se tem dados nulo no dataframe\n",
            "age                  0\n",
            "bmi                  0\n",
            "cholesterol_level    0\n",
            "hypertension         0\n",
            "treatment_type       0\n",
            "survived             0\n",
            "dtype: int64\n"
          ]
        }
      ],
      "source": [
        "print(\"Mostra se tem dados nulo no dataframe\")\n",
        "resultado_nulos= tratamentolimpeza.mosranulos(df_cancer)\n",
        "print(resultado_nulos)\n"
      ]
    },
    {
      "cell_type": "code",
      "execution_count": 17,
      "metadata": {
        "colab": {
          "base_uri": "https://localhost:8080/"
        },
        "id": "_TYolMokHTHC",
        "outputId": "1bd97684-5d12-4714-f237-e152fc231262"
      },
      "outputs": [
        {
          "output_type": "stream",
          "name": "stdout",
          "text": [
            "atributo idade foi alterado de float para inteiro\n",
            "0    64\n",
            "Name: age, dtype: int64\n"
          ]
        }
      ],
      "source": [
        "print('atributo idade foi alterado de float para inteiro')\n",
        "tratamentolimpeza.alteratipoidade(df_cancer)\n",
        "#resultado_tipo =  Analisador.tipodados(df_cancer)\n",
        "print(df_cancer['age'].head(1))\n",
        "\n"
      ]
    },
    {
      "cell_type": "markdown",
      "source": [
        "***Esse gráfico é uma matriz de correlação (heatmap)*** -- Que mostra as relações entre quatro variáveis: \"bmi\" (Índice de Massa Corporal), \"cholesterol_level\" (Nível de Colesterol), \"hypertension\" (Hipertensão) e \"survived\" (Sobrevivência). Os valores nas células variam de -1 a 1, onde:\n",
        "1.00 indica uma correlação positiva perfeita (as variáveis se movem na mesma direção).\n",
        "-1.00 indica uma correlação negativa perfeita (as variáveis se movem em direções opostas).\n",
        "0.00 indica ausência de correlação linear."
      ],
      "metadata": {
        "id": "Js5lG9JUHHWK"
      }
    },
    {
      "cell_type": "code",
      "execution_count": 18,
      "metadata": {
        "colab": {
          "base_uri": "https://localhost:8080/",
          "height": 507
        },
        "id": "hwLYs7lGHKVe",
        "outputId": "dc31d983-7f17-424d-f7e4-a6aa7cf7324d"
      },
      "outputs": [
        {
          "output_type": "display_data",
          "data": {
            "text/plain": [
              "<Figure size 700x500 with 2 Axes>"
            ],
            "image/png": "[encoded data removed]"
          },
          "metadata": {}
        }
      ],
      "source": [
        "#Verificar a correlação entres os atributos usando o gráfico do tipo hetmap\n",
        "colunas = ['bmi', 'cholesterol_level','hypertension','survived']\n",
        "graficos_geral.grf_hetmeap(df_cancer,colunas,'Matriz de Correlação (IMC, Colesterol,Hipertensão, Sobrevivência')"
      ]
    },
    {
      "cell_type": "markdown",
      "metadata": {
        "id": "5VVAMJ3MHKVe"
      },
      "source": [
        "\n",
        "Vamos analisar cada par de variáveis:\n",
        "\n",
        "\n",
        "***BMI e Cholesterol_level:*** A correlação é de 0.75. Isso indica uma forte correlação positiva. Pessoas com maior IMC tendem a ter níveis de colesterol mais altos, e vice-versa.\n",
        "\n",
        "Há uma forte correlação positiva entre BMI e Cholesterol_level (0.75). Isso significa que essas duas variáveis tendem a aumentar ou diminuir juntas.\n",
        "Não há correlação linear significativa entre nenhuma das outras combinações de variáveis (BMI/Hypertension, BMI/Survived, Cholesterol_level/Hypertension, Cholesterol_level/Survived, Hypertension/Survived). Os valores próximos a 0.00 indicam que, com base nessa análise linear, essas variáveis não têm uma relação direta e previsível entre si.\n",
        "\n"
      ]
    },
    {
      "cell_type": "markdown",
      "source": [
        "***Distribuição etária entre pacientes com câncer*** -- É um histograma que mostra a frequência (número de pacientes) por faixa etária, com uma curva de densidade estimada sobreposta, que se assemelha a uma distribuição normal"
      ],
      "metadata": {
        "id": "2CisiGBGInY3"
      }
    },
    {
      "cell_type": "code",
      "source": [
        "graficos_geral.grf_histograma(df_cancer,'Distribuição etária entre pacientes com câncer','Idade','Frequência')"
      ],
      "metadata": {
        "colab": {
          "base_uri": "https://localhost:8080/",
          "height": 485
        },
        "id": "8GrTTFqf8wk8",
        "outputId": "b00aef1b-da70-4f98-c2cb-4efab30b6986"
      },
      "execution_count": null,
      "outputs": [
        {
          "output_type": "display_data",
          "data": {
            "text/plain": [
              "<Figure size 700x500 with 1 Axes>"
            ],
            "image/png": "[encoded data removed]"
          },
          "metadata": {}
        }
      ]
    },
    {
      "cell_type": "markdown",
      "source": [
        "O gráfico ilustra que o câncer é mais prevalente em indivíduos de meia-idade a idosos, com um pico significativo de incidência por volta dos 55-60 anos de idade. Embora possa ocorrer em qualquer idade, é menos comum em pessoas muito jovens e a frequência diminui novamente em idades muito avançadas. Essa distribuição é consistente com o conhecimento geral de que o risco de câncer aumenta com a idade."
      ],
      "metadata": {
        "id": "bIK22x8sKCSO"
      }
    },
    {
      "cell_type": "markdown",
      "source": [
        "O gráfico reitera que a taxa de sobrevivência é mais elevada na faixa etária de \"Meia idade\" em comparação com os grupos \"Jovem\" e \"Idoso\". Os grupos \"Jovem\" e \"Idoso\" têm taxas de sobrevivência muito próximas entre si e são as mais baixas"
      ],
      "metadata": {
        "id": "Ni7f8-X_ZJuU"
      }
    },
    {
      "cell_type": "code",
      "source": [
        "df_idade_tratamento = tratamentolimpeza.agrupa_idade_tratamento(df_cancer)\n",
        "df_idade_tratamento"
      ],
      "metadata": {
        "colab": {
          "base_uri": "https://localhost:8080/",
          "height": 175
        },
        "id": "Pm1gKjmwGb4V",
        "outputId": "aa085385-8fc3-44ab-8f63-23de2868c131"
      },
      "execution_count": null,
      "outputs": [
        {
          "output_type": "execute_result",
          "data": {
            "text/plain": [
              "treatment_type  Chemotherapy  Combined  Radiation   Surgery\n",
              "faixa_etaria                                               \n",
              "Idoso               0.217624  0.220945   0.220273  0.224414\n",
              "Jovem               0.245192  0.181579   0.222520  0.212714\n",
              "Meia idade          0.218351  0.218278   0.218753  0.220937"
            ],
            "text/html": [
              "\n",
              "  <div id=\"df-89f250b6-87be-48b3-949e-321ea8da473b\" class=\"colab-df-container\">\n",
              "    <div>\n",
              "<style scoped>\n",
              "    .dataframe tbody tr th:only-of-type {\n",
              "        vertical-align: middle;\n",
              "    }\n",
              "\n",
              "    .dataframe tbody tr th {\n",
              "        vertical-align: top;\n",
              "    }\n",
              "\n",
              "    .dataframe thead th {\n",
              "        text-align: right;\n",
              "    }\n",
              "</style>\n",
              "<table border=\"1\" class=\"dataframe\">\n",
              "  <thead>\n",
              "    <tr style=\"text-align: right;\">\n",
              "      <th>treatment_type</th>\n",
              "      <th>Chemotherapy</th>\n",
              "      <th>Combined</th>\n",
              "      <th>Radiation</th>\n",
              "      <th>Surgery</th>\n",
              "    </tr>\n",
              "    <tr>\n",
              "      <th>faixa_etaria</th>\n",
              "      <th></th>\n",
              "      <th></th>\n",
              "      <th></th>\n",
              "      <th></th>\n",
              "    </tr>\n",
              "  </thead>\n",
              "  <tbody>\n",
              "    <tr>\n",
              "      <th>Idoso</th>\n",
              "      <td>0.217624</td>\n",
              "      <td>0.220945</td>\n",
              "      <td>0.220273</td>\n",
              "      <td>0.224414</td>\n",
              "    </tr>\n",
              "    <tr>\n",
              "      <th>Jovem</th>\n",
              "      <td>0.245192</td>\n",
              "      <td>0.181579</td>\n",
              "      <td>0.222520</td>\n",
              "      <td>0.212714</td>\n",
              "    </tr>\n",
              "    <tr>\n",
              "      <th>Meia idade</th>\n",
              "      <td>0.218351</td>\n",
              "      <td>0.218278</td>\n",
              "      <td>0.218753</td>\n",
              "      <td>0.220937</td>\n",
              "    </tr>\n",
              "  </tbody>\n",
              "</table>\n",
              "</div>\n",
              "    <div class=\"colab-df-buttons\">\n",
              "\n",
              "  <div class=\"colab-df-container\">\n",
              "    <button class=\"colab-df-convert\" onclick=\"convertToInteractive('df-89f250b6-87be-48b3-949e-321ea8da473b')\"\n",
              "            title=\"Convert this dataframe to an interactive table.\"\n",
              "            style=\"display:none;\">\n",
              "\n",
              "  <svg xmlns=\"http://www.w3.org/2000/svg\" height=\"24px\" viewBox=\"0 -960 960 960\">\n",
              "    <path d=\"M120-120v-720h720v720H120Zm60-500h600v-160H180v160Zm220 220h160v-160H400v160Zm0 220h160v-160H400v160ZM180-400h160v-160H180v160Zm440 0h160v-160H620v160ZM180-180h160v-160H180v160Zm440 0h160v-160H620v160Z\"/>\n",
              "  </svg>\n",
              "    </button>\n",
              "\n",
              "  <style>\n",
              "    .colab-df-container {\n",
              "      display:flex;\n",
              "      gap: 12px;\n",
              "    }\n",
              "\n",
              "    .colab-df-convert {\n",
              "      background-color: #E8F0FE;\n",
              "      border: none;\n",
              "      border-radius: 50%;\n",
              "      cursor: pointer;\n",
              "      display: none;\n",
              "      fill: #1967D2;\n",
              "      height: 32px;\n",
              "      padding: 0 0 0 0;\n",
              "      width: 32px;\n",
              "    }\n",
              "\n",
              "    .colab-df-convert:hover {\n",
              "      background-color: #E2EBFA;\n",
              "      box-shadow: 0px 1px 2px rgba(60, 64, 67, 0.3), 0px 1px 3px 1px rgba(60, 64, 67, 0.15);\n",
              "      fill: #174EA6;\n",
              "    }\n",
              "\n",
              "    .colab-df-buttons div {\n",
              "      margin-bottom: 4px;\n",
              "    }\n",
              "\n",
              "    [theme=dark] .colab-df-convert {\n",
              "      background-color: #3B4455;\n",
              "      fill: #D2E3FC;\n",
              "    }\n",
              "\n",
              "    [theme=dark] .colab-df-convert:hover {\n",
              "      background-color: #434B5C;\n",
              "      box-shadow: 0px 1px 3px 1px rgba(0, 0, 0, 0.15);\n",
              "      filter: drop-shadow(0px 1px 2px rgba(0, 0, 0, 0.3));\n",
              "      fill: #FFFFFF;\n",
              "    }\n",
              "  </style>\n",
              "\n",
              "    <script>\n",
              "      const buttonEl =\n",
              "        document.querySelector('#df-89f250b6-87be-48b3-949e-321ea8da473b button.colab-df-convert');\n",
              "      buttonEl.style.display =\n",
              "        google.colab.kernel.accessAllowed ? 'block' : 'none';\n",
              "\n",
              "      async function convertToInteractive(key) {\n",
              "        const element = document.querySelector('#df-89f250b6-87be-48b3-949e-321ea8da473b');\n",
              "        const dataTable =\n",
              "          await google.colab.kernel.invokeFunction('convertToInteractive',\n",
              "                                                    [key], {});\n",
              "        if (!dataTable) return;\n",
              "\n",
              "        const docLinkHtml = 'Like what you see? Visit the ' +\n",
              "          '<a target=\"_blank\" href=https://colab.research.google.com/notebooks/data_table.ipynb>data table notebook</a>'\n",
              "          + ' to learn more about interactive tables.';\n",
              "        element.innerHTML = '';\n",
              "        dataTable['output_type'] = 'display_data';\n",
              "        await google.colab.output.renderOutput(dataTable, element);\n",
              "        const docLink = document.createElement('div');\n",
              "        docLink.innerHTML = docLinkHtml;\n",
              "        element.appendChild(docLink);\n",
              "      }\n",
              "    </script>\n",
              "  </div>\n",
              "\n",
              "\n",
              "    <div id=\"df-f31999e8-49db-4f6c-96b9-d42a10d38d44\">\n",
              "      <button class=\"colab-df-quickchart\" onclick=\"quickchart('df-f31999e8-49db-4f6c-96b9-d42a10d38d44')\"\n",
              "                title=\"Suggest charts\"\n",
              "                style=\"display:none;\">\n",
              "\n",
              "<svg xmlns=\"http://www.w3.org/2000/svg\" height=\"24px\"viewBox=\"0 0 24 24\"\n",
              "     width=\"24px\">\n",
              "    <g>\n",
              "        <path d=\"M19 3H5c-1.1 0-2 .9-2 2v14c0 1.1.9 2 2 2h14c1.1 0 2-.9 2-2V5c0-1.1-.9-2-2-2zM9 17H7v-7h2v7zm4 0h-2V7h2v10zm4 0h-2v-4h2v4z\"/>\n",
              "    </g>\n",
              "</svg>\n",
              "      </button>\n",
              "\n",
              "<style>\n",
              "  .colab-df-quickchart {\n",
              "      --bg-color: #E8F0FE;\n",
              "      --fill-color: #1967D2;\n",
              "      --hover-bg-color: #E2EBFA;\n",
              "      --hover-fill-color: #174EA6;\n",
              "      --disabled-fill-color: #AAA;\n",
              "      --disabled-bg-color: #DDD;\n",
              "  }\n",
              "\n",
              "  [theme=dark] .colab-df-quickchart {\n",
              "      --bg-color: #3B4455;\n",
              "      --fill-color: #D2E3FC;\n",
              "      --hover-bg-color: #434B5C;\n",
              "      --hover-fill-color: #FFFFFF;\n",
              "      --disabled-bg-color: #3B4455;\n",
              "      --disabled-fill-color: #666;\n",
              "  }\n",
              "\n",
              "  .colab-df-quickchart {\n",
              "    background-color: var(--bg-color);\n",
              "    border: none;\n",
              "    border-radius: 50%;\n",
              "    cursor: pointer;\n",
              "    display: none;\n",
              "    fill: var(--fill-color);\n",
              "    height: 32px;\n",
              "    padding: 0;\n",
              "    width: 32px;\n",
              "  }\n",
              "\n",
              "  .colab-df-quickchart:hover {\n",
              "    background-color: var(--hover-bg-color);\n",
              "    box-shadow: 0 1px 2px rgba(60, 64, 67, 0.3), 0 1px 3px 1px rgba(60, 64, 67, 0.15);\n",
              "    fill: var(--button-hover-fill-color);\n",
              "  }\n",
              "\n",
              "  .colab-df-quickchart-complete:disabled,\n",
              "  .colab-df-quickchart-complete:disabled:hover {\n",
              "    background-color: var(--disabled-bg-color);\n",
              "    fill: var(--disabled-fill-color);\n",
              "    box-shadow: none;\n",
              "  }\n",
              "\n",
              "  .colab-df-spinner {\n",
              "    border: 2px solid var(--fill-color);\n",
              "    border-color: transparent;\n",
              "    border-bottom-color: var(--fill-color);\n",
              "    animation:\n",
              "      spin 1s steps(1) infinite;\n",
              "  }\n",
              "\n",
              "  @keyframes spin {\n",
              "    0% {\n",
              "      border-color: transparent;\n",
              "      border-bottom-color: var(--fill-color);\n",
              "      border-left-color: var(--fill-color);\n",
              "    }\n",
              "    20% {\n",
              "      border-color: transparent;\n",
              "      border-left-color: var(--fill-color);\n",
              "      border-top-color: var(--fill-color);\n",
              "    }\n",
              "    30% {\n",
              "      border-color: transparent;\n",
              "      border-left-color: var(--fill-color);\n",
              "      border-top-color: var(--fill-color);\n",
              "      border-right-color: var(--fill-color);\n",
              "    }\n",
              "    40% {\n",
              "      border-color: transparent;\n",
              "      border-right-color: var(--fill-color);\n",
              "      border-top-color: var(--fill-color);\n",
              "    }\n",
              "    60% {\n",
              "      border-color: transparent;\n",
              "      border-right-color: var(--fill-color);\n",
              "    }\n",
              "    80% {\n",
              "      border-color: transparent;\n",
              "      border-right-color: var(--fill-color);\n",
              "      border-bottom-color: var(--fill-color);\n",
              "    }\n",
              "    90% {\n",
              "      border-color: transparent;\n",
              "      border-bottom-color: var(--fill-color);\n",
              "    }\n",
              "  }\n",
              "</style>\n",
              "\n",
              "      <script>\n",
              "        async function quickchart(key) {\n",
              "          const quickchartButtonEl =\n",
              "            document.querySelector('#' + key + ' button');\n",
              "          quickchartButtonEl.disabled = true;  // To prevent multiple clicks.\n",
              "          quickchartButtonEl.classList.add('colab-df-spinner');\n",
              "          try {\n",
              "            const charts = await google.colab.kernel.invokeFunction(\n",
              "                'suggestCharts', [key], {});\n",
              "          } catch (error) {\n",
              "            console.error('Error during call to suggestCharts:', error);\n",
              "          }\n",
              "          quickchartButtonEl.classList.remove('colab-df-spinner');\n",
              "          quickchartButtonEl.classList.add('colab-df-quickchart-complete');\n",
              "        }\n",
              "        (() => {\n",
              "          let quickchartButtonEl =\n",
              "            document.querySelector('#df-f31999e8-49db-4f6c-96b9-d42a10d38d44 button');\n",
              "          quickchartButtonEl.style.display =\n",
              "            google.colab.kernel.accessAllowed ? 'block' : 'none';\n",
              "        })();\n",
              "      </script>\n",
              "    </div>\n",
              "\n",
              "  <div id=\"id_2c70a159-93b8-444e-bb39-e5709416f3e0\">\n",
              "    <style>\n",
              "      .colab-df-generate {\n",
              "        background-color: #E8F0FE;\n",
              "        border: none;\n",
              "        border-radius: 50%;\n",
              "        cursor: pointer;\n",
              "        display: none;\n",
              "        fill: #1967D2;\n",
              "        height: 32px;\n",
              "        padding: 0 0 0 0;\n",
              "        width: 32px;\n",
              "      }\n",
              "\n",
              "      .colab-df-generate:hover {\n",
              "        background-color: #E2EBFA;\n",
              "        box-shadow: 0px 1px 2px rgba(60, 64, 67, 0.3), 0px 1px 3px 1px rgba(60, 64, 67, 0.15);\n",
              "        fill: #174EA6;\n",
              "      }\n",
              "\n",
              "      [theme=dark] .colab-df-generate {\n",
              "        background-color: #3B4455;\n",
              "        fill: #D2E3FC;\n",
              "      }\n",
              "\n",
              "      [theme=dark] .colab-df-generate:hover {\n",
              "        background-color: #434B5C;\n",
              "        box-shadow: 0px 1px 3px 1px rgba(0, 0, 0, 0.15);\n",
              "        filter: drop-shadow(0px 1px 2px rgba(0, 0, 0, 0.3));\n",
              "        fill: #FFFFFF;\n",
              "      }\n",
              "    </style>\n",
              "    <button class=\"colab-df-generate\" onclick=\"generateWithVariable('df_idade_tratamento')\"\n",
              "            title=\"Generate code using this dataframe.\"\n",
              "            style=\"display:none;\">\n",
              "\n",
              "  <svg xmlns=\"http://www.w3.org/2000/svg\" height=\"24px\"viewBox=\"0 0 24 24\"\n",
              "       width=\"24px\">\n",
              "    <path d=\"M7,19H8.4L18.45,9,17,7.55,7,17.6ZM5,21V16.75L18.45,3.32a2,2,0,0,1,2.83,0l1.4,1.43a1.91,1.91,0,0,1,.58,1.4,1.91,1.91,0,0,1-.58,1.4L9.25,21ZM18.45,9,17,7.55Zm-12,3A5.31,5.31,0,0,0,4.9,8.1,5.31,5.31,0,0,0,1,6.5,5.31,5.31,0,0,0,4.9,4.9,5.31,5.31,0,0,0,6.5,1,5.31,5.31,0,0,0,8.1,4.9,5.31,5.31,0,0,0,12,6.5,5.46,5.46,0,0,0,6.5,12Z\"/>\n",
              "  </svg>\n",
              "    </button>\n",
              "    <script>\n",
              "      (() => {\n",
              "      const buttonEl =\n",
              "        document.querySelector('#id_2c70a159-93b8-444e-bb39-e5709416f3e0 button.colab-df-generate');\n",
              "      buttonEl.style.display =\n",
              "        google.colab.kernel.accessAllowed ? 'block' : 'none';\n",
              "\n",
              "      buttonEl.onclick = () => {\n",
              "        google.colab.notebook.generateWithVariable('df_idade_tratamento');\n",
              "      }\n",
              "      })();\n",
              "    </script>\n",
              "  </div>\n",
              "\n",
              "    </div>\n",
              "  </div>\n"
            ],
            "application/vnd.google.colaboratory.intrinsic+json": {
              "type": "dataframe",
              "variable_name": "df_idade_tratamento",
              "summary": "{\n  \"name\": \"df_idade_tratamento\",\n  \"rows\": 3,\n  \"fields\": [\n    {\n      \"column\": \"faixa_etaria\",\n      \"properties\": {\n        \"dtype\": \"string\",\n        \"num_unique_values\": 3,\n        \"samples\": [\n          \"Idoso\",\n          \"Jovem\",\n          \"Meia idade\"\n        ],\n        \"semantic_type\": \"\",\n        \"description\": \"\"\n      }\n    },\n    {\n      \"column\": \"Chemotherapy\",\n      \"properties\": {\n        \"dtype\": \"number\",\n        \"std\": 0.015711110873554448,\n        \"min\": 0.21762357998157814,\n        \"max\": 0.24519230769230768,\n        \"num_unique_values\": 3,\n        \"samples\": [\n          0.21762357998157814,\n          0.24519230769230768,\n          0.21835072537541358\n        ],\n        \"semantic_type\": \"\",\n        \"description\": \"\"\n      }\n    },\n    {\n      \"column\": \"Combined\",\n      \"properties\": {\n        \"dtype\": \"number\",\n        \"std\": 0.02199867599338917,\n        \"min\": 0.18157894736842106,\n        \"max\": 0.22094523999754165,\n        \"num_unique_values\": 3,\n        \"samples\": [\n          0.22094523999754165,\n          0.18157894736842106,\n          0.21827815932299302\n        ],\n        \"semantic_type\": \"\",\n        \"description\": \"\"\n      }\n    },\n    {\n      \"column\": \"Radiation\",\n      \"properties\": {\n        \"dtype\": \"number\",\n        \"std\": 0.0018951125535798209,\n        \"min\": 0.21875321204645903,\n        \"max\": 0.2225201072386059,\n        \"num_unique_values\": 3,\n        \"samples\": [\n          0.22027302489344616,\n          0.2225201072386059,\n          0.21875321204645903\n        ],\n        \"semantic_type\": \"\",\n        \"description\": \"\"\n      }\n    },\n    {\n      \"column\": \"Surgery\",\n      \"properties\": {\n        \"dtype\": \"number\",\n        \"std\": 0.006008228324930679,\n        \"min\": 0.21271393643031786,\n        \"max\": 0.22441384443617418,\n        \"num_unique_values\": 3,\n        \"samples\": [\n          0.22441384443617418,\n          0.21271393643031786,\n          0.2209367657574829\n        ],\n        \"semantic_type\": \"\",\n        \"description\": \"\"\n      }\n    }\n  ]\n}"
            }
          },
          "metadata": {},
          "execution_count": 34
        }
      ]
    },
    {
      "cell_type": "markdown",
      "source": [
        "O gráfico ilustra a composição dos regimes de tratamento (Quimioterapia, Combinado, Radioterapia, Cirurgia) para cada uma das três faixas etárias (Idoso, Jovem, Meia idade)."
      ],
      "metadata": {
        "id": "EXL3ueZ-b61-"
      }
    },
    {
      "cell_type": "code",
      "source": [
        "graficos_geral.grf_barras_empilhadas(df_idade_tratamento,'Taxa de Sobrevivência por Tipo de Tratamento e Grupo Etário','Grupo de Idade','Taxa de sobrevivência','Tipo de Tratamento')"
      ],
      "metadata": {
        "colab": {
          "base_uri": "https://localhost:8080/",
          "height": 507
        },
        "id": "kVzNwVfMFxwf",
        "outputId": "19e46009-97b8-4462-df69-95ceb40165f4"
      },
      "execution_count": null,
      "outputs": [
        {
          "output_type": "display_data",
          "data": {
            "text/plain": [
              "<Figure size 700x500 with 1 Axes>"
            ],
            "image/png": "[encoded data removed]"
          },
          "metadata": {}
        }
      ]
    },
    {
      "cell_type": "markdown",
      "source": [
        "Em resumo, o gráfico é útil para entender como os diferentes tipos de tratamento se distribuem entre os grupos etários. A \"Meia idade\" se destaca por uma maior proporção de cirurgia, e há pequenas variações na radioterapia, enquanto a quimioterapia e o tratamento combinado são mais uniformes entre os grupos."
      ],
      "metadata": {
        "id": "dMkPXB0KZgdq"
      }
    },
    {
      "cell_type": "markdown",
      "source": [
        "## Seleção das Features para Machine Learning - Classificação"
      ],
      "metadata": {
        "id": "2VNPYC7v_Jq2"
      }
    },
    {
      "cell_type": "code",
      "source": [
        "colunas_selecionadas = ['age','gender','cancer_stage','family_history','smoking_status','bmi','cholesterol_level','hypertension','asthma','cirrhosis','other_cancer','treatment_type','survived']\n",
        "# Cria um novo DataFrame contendo apenas as colunas selecionadas\n",
        "df_cancer = df[colunas_selecionadas].copy()\n"
      ],
      "metadata": {
        "id": "5YdUY30sNq3c"
      },
      "execution_count": 19,
      "outputs": []
    },
    {
      "cell_type": "markdown",
      "source": [
        "## Definição do Tipo de Problema e definição das features e target."
      ],
      "metadata": {
        "id": "NH1gRs0kuONe"
      }
    },
    {
      "cell_type": "code",
      "execution_count": 20,
      "metadata": {
        "id": "82kzmWnHFkb6",
        "colab": {
          "base_uri": "https://localhost:8080/"
        },
        "outputId": "b66394b0-15ec-47bb-f87e-70029c46f62b"
      },
      "outputs": [
        {
          "output_type": "stream",
          "name": "stdout",
          "text": [
            "PROBLEM_TYPE: classificacao\n",
            "Target: survived\n",
            "N features: 12\n"
          ]
        }
      ],
      "source": [
        "# Separar features (X) e target (y)\n",
        "PROBLEM_TYPE = \"classificacao\"\n",
        "target = \"survived\"\n",
        "features = [c for c in df_cancer.columns if c not in [target, \"timestamp\"]]\n",
        "\n",
        "print(\"PROBLEM_TYPE:\", PROBLEM_TYPE)\n",
        "print(\"Target:\", target)\n",
        "print(\"N features:\", len(features))\n"
      ]
    },
    {
      "cell_type": "markdown",
      "source": [
        "## Seperação do Conjunto de Treino (80%)  e Teste (20%) e definição de folds"
      ],
      "metadata": {
        "id": "yXz4Nv8uKk7c"
      }
    },
    {
      "cell_type": "code",
      "execution_count": 21,
      "metadata": {
        "id": "zzxbuTbIeuuU"
      },
      "outputs": [],
      "source": [
        "# Dividir os dados em conjuntos de treino em 80% e de teste em 20%\n",
        "X = df_cancer[features].copy()\n",
        "y = df_cancer[target].copy()\n",
        "X_train, X_test, y_train, y_test = train_test_split(X, y, test_size=0.2, random_state=42, stratify=y)\n",
        "# Criando os folds para a validação cruzada\n",
        "num_particoes = 10 # número de folds da validação cruzada\n",
        "kfold = StratifiedKFold(n_splits=num_particoes, shuffle=True, random_state=42)"
      ]
    },
    {
      "cell_type": "markdown",
      "source": [
        "## Verifica se a classe Target está desbalanceada"
      ],
      "metadata": {
        "id": "lm7-rf1LvYIR"
      }
    },
    {
      "cell_type": "code",
      "source": [
        "# Conta a quantidade de sobreviventes (1) e não sobreviventes (0)\n",
        "print(df_cancer['survived'].value_counts())"
      ],
      "metadata": {
        "colab": {
          "base_uri": "https://localhost:8080/"
        },
        "id": "B75QscTFvXPb",
        "outputId": "d3f6002f-3c16-4f1e-ee05-0c3bf0bba298"
      },
      "execution_count": 22,
      "outputs": [
        {
          "output_type": "stream",
          "name": "stdout",
          "text": [
            "survived\n",
            "0    173791\n",
            "1     48893\n",
            "Name: count, dtype: int64\n"
          ]
        }
      ]
    },
    {
      "cell_type": "markdown",
      "source": [
        "## Conclusão\n",
        "Isso significa que a classe '0' é aproximadamente 3,5 vezes maior que a classe '1'. Esse tipo de desequilíbrio pode ser um problema para modelos de machine learning, pois eles podem se inclinar a prever a classe majoritária, resultando em uma acurácia alta, mas com baixo desempenho na previsão da classe minoritária."
      ],
      "metadata": {
        "id": "19xZQnyXwrsp"
      }
    },
    {
      "cell_type": "markdown",
      "source": [
        "## Mostrando a dimensão de dados de Treinamento e Teste"
      ],
      "metadata": {
        "id": "gWVmzLQsBxQo"
      }
    },
    {
      "cell_type": "code",
      "execution_count": 23,
      "metadata": {
        "colab": {
          "base_uri": "https://localhost:8080/"
        },
        "id": "SPvN4eP8ewUB",
        "outputId": "79aaf23f-40f2-48b4-e51a-c9a806ca2c16"
      },
      "outputs": [
        {
          "output_type": "stream",
          "name": "stdout",
          "text": [
            "Dimensões de X_train: (178147, 12)\n",
            "Dimensões de X_test: (44537, 12)\n",
            "Dimensões de y_train: (178147,)\n",
            "Dimensões de y_test: (44537,)\n"
          ]
        }
      ],
      "source": [
        "print(f\"Dimensões de X_train: {X_train.shape}\")\n",
        "print(f\"Dimensões de X_test: {X_test.shape}\")\n",
        "print(f\"Dimensões de y_train: {y_train.shape}\")\n",
        "print(f\"Dimensões de y_test: {y_test.shape}\")"
      ]
    },
    {
      "cell_type": "markdown",
      "source": [
        "## Tratamento de dados e Pipeline de pré-processamento - Definindo os atributos númericos e categoricos (Padronizando, OneHotEnconder,SimpleImputer)"
      ],
      "metadata": {
        "id": "UszgmL0YCGuo"
      }
    },
    {
      "cell_type": "code",
      "source": [
        "num_cols = [c for c in X_train.columns if str(X_train[c].dtype).startswith((\"float\",\"int\"))]\n",
        "cat_cols = [c for c in X_train.columns if c not in num_cols and c != \"timestamp\"]\n",
        "\n",
        "numeric_pipe = Pipeline(steps=[\n",
        "    (\"imputer\", SimpleImputer(strategy=\"median\")),\n",
        "    (\"scaler\", StandardScaler())\n",
        "])\n",
        "\n",
        "categorical_pipe = Pipeline(steps=[\n",
        "    (\"imputer\", SimpleImputer(strategy=\"most_frequent\")),\n",
        "    (\"onehot\", OneHotEncoder(handle_unknown=\"ignore\"))\n",
        "])\n",
        "\n",
        "preprocess = ColumnTransformer(transformers=[\n",
        "    (\"num\", numeric_pipe, num_cols),\n",
        "    (\"cat\", categorical_pipe, cat_cols)\n",
        "])\n",
        "\n",
        "print(\"num_cols:\", num_cols[:12], \"...\")\n",
        "print(\"cat_cols:\", cat_cols[:12], \"...\")"
      ],
      "metadata": {
        "colab": {
          "base_uri": "https://localhost:8080/"
        },
        "id": "cfboFSklCJV3",
        "outputId": "04f04a6f-9a24-480e-d0f7-4966c669bc58"
      },
      "execution_count": 24,
      "outputs": [
        {
          "output_type": "stream",
          "name": "stdout",
          "text": [
            "num_cols: ['age', 'bmi', 'cholesterol_level', 'hypertension', 'asthma', 'cirrhosis', 'other_cancer'] ...\n",
            "cat_cols: ['gender', 'cancer_stage', 'family_history', 'smoking_status', 'treatment_type'] ...\n"
          ]
        }
      ]
    },
    {
      "cell_type": "markdown",
      "source": [
        "## Baseline e modelos candidatos"
      ],
      "metadata": {
        "id": "Rxg7RpbMFoMq"
      }
    },
    {
      "cell_type": "code",
      "source": [
        "from sklearn.ensemble import AdaBoostClassifier\n",
        "from sklearn.ensemble import GradientBoostingClassifier\n",
        "SEED = 42\n",
        "baseline = Pipeline(steps=[(\"pre\", preprocess),\n",
        "                               (\"model\", DummyClassifier(strategy=\"most_frequent\", random_state=SEED))])\n",
        "candidates = {\n",
        "        \"LogisticRegression\": Pipeline([(\"pre\", preprocess), (\"model\", LogisticRegression(max_iter=200, random_state=SEED))]),\n",
        "        \"RandomForest\": Pipeline([(\"pre\", preprocess), (\"model\", RandomForestClassifier(random_state=SEED))]),\n",
        "        \"KNN\": Pipeline([(\"pre\", preprocess), (\"model\", KNeighborsClassifier())]),\n",
        "        \"CART\": Pipeline([(\"pre\", preprocess), (\"model\",  DecisionTreeClassifier(random_state=SEED))]),\n",
        "        \"NB\": Pipeline([(\"pre\", preprocess), (\"model\",  GaussianNB())]),\n",
        "        \"AdaBoostClassifier\": Pipeline([(\"pre\", preprocess), (\"model\",  AdaBoostClassifier(random_state=SEED))]),\n",
        "        \"GradientBoostingClassifier\": Pipeline([(\"pre\", preprocess), (\"model\",  GradientBoostingClassifier(random_state=SEED))])\n",
        "    }\n",
        "baseline"
      ],
      "metadata": {
        "colab": {
          "base_uri": "https://localhost:8080/",
          "height": 289
        },
        "id": "3D9JTSGiFujJ",
        "outputId": "5aa96891-5718-4d00-d928-6953a9dbd91b"
      },
      "execution_count": 25,
      "outputs": [
        {
          "output_type": "execute_result",
          "data": {
            "text/plain": [
              "Pipeline(steps=[('pre',\n",
              "                 ColumnTransformer(transformers=[('num',\n",
              "                                                  Pipeline(steps=[('imputer',\n",
              "                                                                   SimpleImputer(strategy='median')),\n",
              "                                                                  ('scaler',\n",
              "                                                                   StandardScaler())]),\n",
              "                                                  ['age', 'bmi',\n",
              "                                                   'cholesterol_level',\n",
              "                                                   'hypertension', 'asthma',\n",
              "                                                   'cirrhosis',\n",
              "                                                   'other_cancer']),\n",
              "                                                 ('cat',\n",
              "                                                  Pipeline(steps=[('imputer',\n",
              "                                                                   SimpleImputer(strategy='most_frequent')),\n",
              "                                                                  ('onehot',\n",
              "                                                                   OneHotEncoder(handle_unknown='ignore'))]),\n",
              "                                                  ['gender', 'cancer_stage',\n",
              "                                                   'family_history',\n",
              "                                                   'smoking_status',\n",
              "                                                   'treatment_type'])])),\n",
              "                ('model',\n",
              "                 DummyClassifier(random_state=42, strategy='most_frequent'))])"
            ],
            "text/html": [
              "<style>#sk-container-id-1 {\n",
              "  /* Definition of color scheme common for light and dark mode */\n",
              "  --sklearn-color-text: #000;\n",
              "  --sklearn-color-text-muted: #666;\n",
              "  --sklearn-color-line: gray;\n",
              "  /* Definition of color scheme for unfitted estimators */\n",
              "  --sklearn-color-unfitted-level-0: #fff5e6;\n",
              "  --sklearn-color-unfitted-level-1: #f6e4d2;\n",
              "  --sklearn-color-unfitted-level-2: #ffe0b3;\n",
              "  --sklearn-color-unfitted-level-3: chocolate;\n",
              "  /* Definition of color scheme for fitted estimators */\n",
              "  --sklearn-color-fitted-level-0: #f0f8ff;\n",
              "  --sklearn-color-fitted-level-1: #d4ebff;\n",
              "  --sklearn-color-fitted-level-2: #b3dbfd;\n",
              "  --sklearn-color-fitted-level-3: cornflowerblue;\n",
              "\n",
              "  /* Specific color for light theme */\n",
              "  --sklearn-color-text-on-default-background: var(--sg-text-color, var(--theme-code-foreground, var(--jp-content-font-color1, black)));\n",
              "  --sklearn-color-background: var(--sg-background-color, var(--theme-background, var(--jp-layout-color0, white)));\n",
              "  --sklearn-color-border-box: var(--sg-text-color, var(--theme-code-foreground, var(--jp-content-font-color1, black)));\n",
              "  --sklearn-color-icon: #696969;\n",
              "\n",
              "  @media (prefers-color-scheme: dark) {\n",
              "    /* Redefinition of color scheme for dark theme */\n",
              "    --sklearn-color-text-on-default-background: var(--sg-text-color, var(--theme-code-foreground, var(--jp-content-font-color1, white)));\n",
              "    --sklearn-color-background: var(--sg-background-color, var(--theme-background, var(--jp-layout-color0, #111)));\n",
              "    --sklearn-color-border-box: var(--sg-text-color, var(--theme-code-foreground, var(--jp-content-font-color1, white)));\n",
              "    --sklearn-color-icon: #878787;\n",
              "  }\n",
              "}\n",
              "\n",
              "#sk-container-id-1 {\n",
              "  color: var(--sklearn-color-text);\n",
              "}\n",
              "\n",
              "#sk-container-id-1 pre {\n",
              "  padding: 0;\n",
              "}\n",
              "\n",
              "#sk-container-id-1 input.sk-hidden--visually {\n",
              "  border: 0;\n",
              "  clip: rect(1px 1px 1px 1px);\n",
              "  clip: rect(1px, 1px, 1px, 1px);\n",
              "  height: 1px;\n",
              "  margin: -1px;\n",
              "  overflow: hidden;\n",
              "  padding: 0;\n",
              "  position: absolute;\n",
              "  width: 1px;\n",
              "}\n",
              "\n",
              "#sk-container-id-1 div.sk-dashed-wrapped {\n",
              "  border: 1px dashed var(--sklearn-color-line);\n",
              "  margin: 0 0.4em 0.5em 0.4em;\n",
              "  box-sizing: border-box;\n",
              "  padding-bottom: 0.4em;\n",
              "  background-color: var(--sklearn-color-background);\n",
              "}\n",
              "\n",
              "#sk-container-id-1 div.sk-container {\n",
              "  /* jupyter's `normalize.less` sets `[hidden] { display: none; }`\n",
              "     but bootstrap.min.css set `[hidden] { display: none !important; }`\n",
              "     so we also need the `!important` here to be able to override the\n",
              "     default hidden behavior on the sphinx rendered scikit-learn.org.\n",
              "     See: https://github.com/scikit-learn/scikit-learn/issues/21755 */\n",
              "  display: inline-block !important;\n",
              "  position: relative;\n",
              "}\n",
              "\n",
              "#sk-container-id-1 div.sk-text-repr-fallback {\n",
              "  display: none;\n",
              "}\n",
              "\n",
              "div.sk-parallel-item,\n",
              "div.sk-serial,\n",
              "div.sk-item {\n",
              "  /* draw centered vertical line to link estimators */\n",
              "  background-image: linear-gradient(var(--sklearn-color-text-on-default-background), var(--sklearn-color-text-on-default-background));\n",
              "  background-size: 2px 100%;\n",
              "  background-repeat: no-repeat;\n",
              "  background-position: center center;\n",
              "}\n",
              "\n",
              "/* Parallel-specific style estimator block */\n",
              "\n",
              "#sk-container-id-1 div.sk-parallel-item::after {\n",
              "  content: \"\";\n",
              "  width: 100%;\n",
              "  border-bottom: 2px solid var(--sklearn-color-text-on-default-background);\n",
              "  flex-grow: 1;\n",
              "}\n",
              "\n",
              "#sk-container-id-1 div.sk-parallel {\n",
              "  display: flex;\n",
              "  align-items: stretch;\n",
              "  justify-content: center;\n",
              "  background-color: var(--sklearn-color-background);\n",
              "  position: relative;\n",
              "}\n",
              "\n",
              "#sk-container-id-1 div.sk-parallel-item {\n",
              "  display: flex;\n",
              "  flex-direction: column;\n",
              "}\n",
              "\n",
              "#sk-container-id-1 div.sk-parallel-item:first-child::after {\n",
              "  align-self: flex-end;\n",
              "  width: 50%;\n",
              "}\n",
              "\n",
              "#sk-container-id-1 div.sk-parallel-item:last-child::after {\n",
              "  align-self: flex-start;\n",
              "  width: 50%;\n",
              "}\n",
              "\n",
              "#sk-container-id-1 div.sk-parallel-item:only-child::after {\n",
              "  width: 0;\n",
              "}\n",
              "\n",
              "/* Serial-specific style estimator block */\n",
              "\n",
              "#sk-container-id-1 div.sk-serial {\n",
              "  display: flex;\n",
              "  flex-direction: column;\n",
              "  align-items: center;\n",
              "  background-color: var(--sklearn-color-background);\n",
              "  padding-right: 1em;\n",
              "  padding-left: 1em;\n",
              "}\n",
              "\n",
              "\n",
              "/* Toggleable style: style used for estimator/Pipeline/ColumnTransformer box that is\n",
              "clickable and can be expanded/collapsed.\n",
              "- Pipeline and ColumnTransformer use this feature and define the default style\n",
              "- Estimators will overwrite some part of the style using the `sk-estimator` class\n",
              "*/\n",
              "\n",
              "/* Pipeline and ColumnTransformer style (default) */\n",
              "\n",
              "#sk-container-id-1 div.sk-toggleable {\n",
              "  /* Default theme specific background. It is overwritten whether we have a\n",
              "  specific estimator or a Pipeline/ColumnTransformer */\n",
              "  background-color: var(--sklearn-color-background);\n",
              "}\n",
              "\n",
              "/* Toggleable label */\n",
              "#sk-container-id-1 label.sk-toggleable__label {\n",
              "  cursor: pointer;\n",
              "  display: flex;\n",
              "  width: 100%;\n",
              "  margin-bottom: 0;\n",
              "  padding: 0.5em;\n",
              "  box-sizing: border-box;\n",
              "  text-align: center;\n",
              "  align-items: start;\n",
              "  justify-content: space-between;\n",
              "  gap: 0.5em;\n",
              "}\n",
              "\n",
              "#sk-container-id-1 label.sk-toggleable__label .caption {\n",
              "  font-size: 0.6rem;\n",
              "  font-weight: lighter;\n",
              "  color: var(--sklearn-color-text-muted);\n",
              "}\n",
              "\n",
              "#sk-container-id-1 label.sk-toggleable__label-arrow:before {\n",
              "  /* Arrow on the left of the label */\n",
              "  content: \"▸\";\n",
              "  float: left;\n",
              "  margin-right: 0.25em;\n",
              "  color: var(--sklearn-color-icon);\n",
              "}\n",
              "\n",
              "#sk-container-id-1 label.sk-toggleable__label-arrow:hover:before {\n",
              "  color: var(--sklearn-color-text);\n",
              "}\n",
              "\n",
              "/* Toggleable content - dropdown */\n",
              "\n",
              "#sk-container-id-1 div.sk-toggleable__content {\n",
              "  max-height: 0;\n",
              "  max-width: 0;\n",
              "  overflow: hidden;\n",
              "  text-align: left;\n",
              "  /* unfitted */\n",
              "  background-color: var(--sklearn-color-unfitted-level-0);\n",
              "}\n",
              "\n",
              "#sk-container-id-1 div.sk-toggleable__content.fitted {\n",
              "  /* fitted */\n",
              "  background-color: var(--sklearn-color-fitted-level-0);\n",
              "}\n",
              "\n",
              "#sk-container-id-1 div.sk-toggleable__content pre {\n",
              "  margin: 0.2em;\n",
              "  border-radius: 0.25em;\n",
              "  color: var(--sklearn-color-text);\n",
              "  /* unfitted */\n",
              "  background-color: var(--sklearn-color-unfitted-level-0);\n",
              "}\n",
              "\n",
              "#sk-container-id-1 div.sk-toggleable__content.fitted pre {\n",
              "  /* unfitted */\n",
              "  background-color: var(--sklearn-color-fitted-level-0);\n",
              "}\n",
              "\n",
              "#sk-container-id-1 input.sk-toggleable__control:checked~div.sk-toggleable__content {\n",
              "  /* Expand drop-down */\n",
              "  max-height: 200px;\n",
              "  max-width: 100%;\n",
              "  overflow: auto;\n",
              "}\n",
              "\n",
              "#sk-container-id-1 input.sk-toggleable__control:checked~label.sk-toggleable__label-arrow:before {\n",
              "  content: \"▾\";\n",
              "}\n",
              "\n",
              "/* Pipeline/ColumnTransformer-specific style */\n",
              "\n",
              "#sk-container-id-1 div.sk-label input.sk-toggleable__control:checked~label.sk-toggleable__label {\n",
              "  color: var(--sklearn-color-text);\n",
              "  background-color: var(--sklearn-color-unfitted-level-2);\n",
              "}\n",
              "\n",
              "#sk-container-id-1 div.sk-label.fitted input.sk-toggleable__control:checked~label.sk-toggleable__label {\n",
              "  background-color: var(--sklearn-color-fitted-level-2);\n",
              "}\n",
              "\n",
              "/* Estimator-specific style */\n",
              "\n",
              "/* Colorize estimator box */\n",
              "#sk-container-id-1 div.sk-estimator input.sk-toggleable__control:checked~label.sk-toggleable__label {\n",
              "  /* unfitted */\n",
              "  background-color: var(--sklearn-color-unfitted-level-2);\n",
              "}\n",
              "\n",
              "#sk-container-id-1 div.sk-estimator.fitted input.sk-toggleable__control:checked~label.sk-toggleable__label {\n",
              "  /* fitted */\n",
              "  background-color: var(--sklearn-color-fitted-level-2);\n",
              "}\n",
              "\n",
              "#sk-container-id-1 div.sk-label label.sk-toggleable__label,\n",
              "#sk-container-id-1 div.sk-label label {\n",
              "  /* The background is the default theme color */\n",
              "  color: var(--sklearn-color-text-on-default-background);\n",
              "}\n",
              "\n",
              "/* On hover, darken the color of the background */\n",
              "#sk-container-id-1 div.sk-label:hover label.sk-toggleable__label {\n",
              "  color: var(--sklearn-color-text);\n",
              "  background-color: var(--sklearn-color-unfitted-level-2);\n",
              "}\n",
              "\n",
              "/* Label box, darken color on hover, fitted */\n",
              "#sk-container-id-1 div.sk-label.fitted:hover label.sk-toggleable__label.fitted {\n",
              "  color: var(--sklearn-color-text);\n",
              "  background-color: var(--sklearn-color-fitted-level-2);\n",
              "}\n",
              "\n",
              "/* Estimator label */\n",
              "\n",
              "#sk-container-id-1 div.sk-label label {\n",
              "  font-family: monospace;\n",
              "  font-weight: bold;\n",
              "  display: inline-block;\n",
              "  line-height: 1.2em;\n",
              "}\n",
              "\n",
              "#sk-container-id-1 div.sk-label-container {\n",
              "  text-align: center;\n",
              "}\n",
              "\n",
              "/* Estimator-specific */\n",
              "#sk-container-id-1 div.sk-estimator {\n",
              "  font-family: monospace;\n",
              "  border: 1px dotted var(--sklearn-color-border-box);\n",
              "  border-radius: 0.25em;\n",
              "  box-sizing: border-box;\n",
              "  margin-bottom: 0.5em;\n",
              "  /* unfitted */\n",
              "  background-color: var(--sklearn-color-unfitted-level-0);\n",
              "}\n",
              "\n",
              "#sk-container-id-1 div.sk-estimator.fitted {\n",
              "  /* fitted */\n",
              "  background-color: var(--sklearn-color-fitted-level-0);\n",
              "}\n",
              "\n",
              "/* on hover */\n",
              "#sk-container-id-1 div.sk-estimator:hover {\n",
              "  /* unfitted */\n",
              "  background-color: var(--sklearn-color-unfitted-level-2);\n",
              "}\n",
              "\n",
              "#sk-container-id-1 div.sk-estimator.fitted:hover {\n",
              "  /* fitted */\n",
              "  background-color: var(--sklearn-color-fitted-level-2);\n",
              "}\n",
              "\n",
              "/* Specification for estimator info (e.g. \"i\" and \"?\") */\n",
              "\n",
              "/* Common style for \"i\" and \"?\" */\n",
              "\n",
              ".sk-estimator-doc-link,\n",
              "a:link.sk-estimator-doc-link,\n",
              "a:visited.sk-estimator-doc-link {\n",
              "  float: right;\n",
              "  font-size: smaller;\n",
              "  line-height: 1em;\n",
              "  font-family: monospace;\n",
              "  background-color: var(--sklearn-color-background);\n",
              "  border-radius: 1em;\n",
              "  height: 1em;\n",
              "  width: 1em;\n",
              "  text-decoration: none !important;\n",
              "  margin-left: 0.5em;\n",
              "  text-align: center;\n",
              "  /* unfitted */\n",
              "  border: var(--sklearn-color-unfitted-level-1) 1pt solid;\n",
              "  color: var(--sklearn-color-unfitted-level-1);\n",
              "}\n",
              "\n",
              ".sk-estimator-doc-link.fitted,\n",
              "a:link.sk-estimator-doc-link.fitted,\n",
              "a:visited.sk-estimator-doc-link.fitted {\n",
              "  /* fitted */\n",
              "  border: var(--sklearn-color-fitted-level-1) 1pt solid;\n",
              "  color: var(--sklearn-color-fitted-level-1);\n",
              "}\n",
              "\n",
              "/* On hover */\n",
              "div.sk-estimator:hover .sk-estimator-doc-link:hover,\n",
              ".sk-estimator-doc-link:hover,\n",
              "div.sk-label-container:hover .sk-estimator-doc-link:hover,\n",
              ".sk-estimator-doc-link:hover {\n",
              "  /* unfitted */\n",
              "  background-color: var(--sklearn-color-unfitted-level-3);\n",
              "  color: var(--sklearn-color-background);\n",
              "  text-decoration: none;\n",
              "}\n",
              "\n",
              "div.sk-estimator.fitted:hover .sk-estimator-doc-link.fitted:hover,\n",
              ".sk-estimator-doc-link.fitted:hover,\n",
              "div.sk-label-container:hover .sk-estimator-doc-link.fitted:hover,\n",
              ".sk-estimator-doc-link.fitted:hover {\n",
              "  /* fitted */\n",
              "  background-color: var(--sklearn-color-fitted-level-3);\n",
              "  color: var(--sklearn-color-background);\n",
              "  text-decoration: none;\n",
              "}\n",
              "\n",
              "/* Span, style for the box shown on hovering the info icon */\n",
              ".sk-estimator-doc-link span {\n",
              "  display: none;\n",
              "  z-index: 9999;\n",
              "  position: relative;\n",
              "  font-weight: normal;\n",
              "  right: .2ex;\n",
              "  padding: .5ex;\n",
              "  margin: .5ex;\n",
              "  width: min-content;\n",
              "  min-width: 20ex;\n",
              "  max-width: 50ex;\n",
              "  color: var(--sklearn-color-text);\n",
              "  box-shadow: 2pt 2pt 4pt #999;\n",
              "  /* unfitted */\n",
              "  background: var(--sklearn-color-unfitted-level-0);\n",
              "  border: .5pt solid var(--sklearn-color-unfitted-level-3);\n",
              "}\n",
              "\n",
              ".sk-estimator-doc-link.fitted span {\n",
              "  /* fitted */\n",
              "  background: var(--sklearn-color-fitted-level-0);\n",
              "  border: var(--sklearn-color-fitted-level-3);\n",
              "}\n",
              "\n",
              ".sk-estimator-doc-link:hover span {\n",
              "  display: block;\n",
              "}\n",
              "\n",
              "/* \"?\"-specific style due to the `<a>` HTML tag */\n",
              "\n",
              "#sk-container-id-1 a.estimator_doc_link {\n",
              "  float: right;\n",
              "  font-size: 1rem;\n",
              "  line-height: 1em;\n",
              "  font-family: monospace;\n",
              "  background-color: var(--sklearn-color-background);\n",
              "  border-radius: 1rem;\n",
              "  height: 1rem;\n",
              "  width: 1rem;\n",
              "  text-decoration: none;\n",
              "  /* unfitted */\n",
              "  color: var(--sklearn-color-unfitted-level-1);\n",
              "  border: var(--sklearn-color-unfitted-level-1) 1pt solid;\n",
              "}\n",
              "\n",
              "#sk-container-id-1 a.estimator_doc_link.fitted {\n",
              "  /* fitted */\n",
              "  border: var(--sklearn-color-fitted-level-1) 1pt solid;\n",
              "  color: var(--sklearn-color-fitted-level-1);\n",
              "}\n",
              "\n",
              "/* On hover */\n",
              "#sk-container-id-1 a.estimator_doc_link:hover {\n",
              "  /* unfitted */\n",
              "  background-color: var(--sklearn-color-unfitted-level-3);\n",
              "  color: var(--sklearn-color-background);\n",
              "  text-decoration: none;\n",
              "}\n",
              "\n",
              "#sk-container-id-1 a.estimator_doc_link.fitted:hover {\n",
              "  /* fitted */\n",
              "  background-color: var(--sklearn-color-fitted-level-3);\n",
              "}\n",
              "</style><div id=\"sk-container-id-1\" class=\"sk-top-container\"><div class=\"sk-text-repr-fallback\"><pre>Pipeline(steps=[(&#x27;pre&#x27;,\n",
              "                 ColumnTransformer(transformers=[(&#x27;num&#x27;,\n",
              "                                                  Pipeline(steps=[(&#x27;imputer&#x27;,\n",
              "                                                                   SimpleImputer(strategy=&#x27;median&#x27;)),\n",
              "                                                                  (&#x27;scaler&#x27;,\n",
              "                                                                   StandardScaler())]),\n",
              "                                                  [&#x27;age&#x27;, &#x27;bmi&#x27;,\n",
              "                                                   &#x27;cholesterol_level&#x27;,\n",
              "                                                   &#x27;hypertension&#x27;, &#x27;asthma&#x27;,\n",
              "                                                   &#x27;cirrhosis&#x27;,\n",
              "                                                   &#x27;other_cancer&#x27;]),\n",
              "                                                 (&#x27;cat&#x27;,\n",
              "                                                  Pipeline(steps=[(&#x27;imputer&#x27;,\n",
              "                                                                   SimpleImputer(strategy=&#x27;most_frequent&#x27;)),\n",
              "                                                                  (&#x27;onehot&#x27;,\n",
              "                                                                   OneHotEncoder(handle_unknown=&#x27;ignore&#x27;))]),\n",
              "                                                  [&#x27;gender&#x27;, &#x27;cancer_stage&#x27;,\n",
              "                                                   &#x27;family_history&#x27;,\n",
              "                                                   &#x27;smoking_status&#x27;,\n",
              "                                                   &#x27;treatment_type&#x27;])])),\n",
              "                (&#x27;model&#x27;,\n",
              "                 DummyClassifier(random_state=42, strategy=&#x27;most_frequent&#x27;))])</pre><b>In a Jupyter environment, please rerun this cell to show the HTML representation or trust the notebook. <br />On GitHub, the HTML representation is unable to render, please try loading this page with nbviewer.org.</b></div><div class=\"sk-container\" hidden><div class=\"sk-item sk-dashed-wrapped\"><div class=\"sk-label-container\"><div class=\"sk-label  sk-toggleable\"><input class=\"sk-toggleable__control sk-hidden--visually\" id=\"sk-estimator-id-1\" type=\"checkbox\" ><label for=\"sk-estimator-id-1\" class=\"sk-toggleable__label  sk-toggleable__label-arrow\"><div><div>Pipeline</div></div><div><a class=\"sk-estimator-doc-link \" rel=\"noreferrer\" target=\"_blank\" href=\"https://scikit-learn.org/1.6/modules/generated/sklearn.pipeline.Pipeline.html\">?<span>Documentation for Pipeline</span></a><span class=\"sk-estimator-doc-link \">i<span>Not fitted</span></span></div></label><div class=\"sk-toggleable__content \"><pre>Pipeline(steps=[(&#x27;pre&#x27;,\n",
              "                 ColumnTransformer(transformers=[(&#x27;num&#x27;,\n",
              "                                                  Pipeline(steps=[(&#x27;imputer&#x27;,\n",
              "                                                                   SimpleImputer(strategy=&#x27;median&#x27;)),\n",
              "                                                                  (&#x27;scaler&#x27;,\n",
              "                                                                   StandardScaler())]),\n",
              "                                                  [&#x27;age&#x27;, &#x27;bmi&#x27;,\n",
              "                                                   &#x27;cholesterol_level&#x27;,\n",
              "                                                   &#x27;hypertension&#x27;, &#x27;asthma&#x27;,\n",
              "                                                   &#x27;cirrhosis&#x27;,\n",
              "                                                   &#x27;other_cancer&#x27;]),\n",
              "                                                 (&#x27;cat&#x27;,\n",
              "                                                  Pipeline(steps=[(&#x27;imputer&#x27;,\n",
              "                                                                   SimpleImputer(strategy=&#x27;most_frequent&#x27;)),\n",
              "                                                                  (&#x27;onehot&#x27;,\n",
              "                                                                   OneHotEncoder(handle_unknown=&#x27;ignore&#x27;))]),\n",
              "                                                  [&#x27;gender&#x27;, &#x27;cancer_stage&#x27;,\n",
              "                                                   &#x27;family_history&#x27;,\n",
              "                                                   &#x27;smoking_status&#x27;,\n",
              "                                                   &#x27;treatment_type&#x27;])])),\n",
              "                (&#x27;model&#x27;,\n",
              "                 DummyClassifier(random_state=42, strategy=&#x27;most_frequent&#x27;))])</pre></div> </div></div><div class=\"sk-serial\"><div class=\"sk-item sk-dashed-wrapped\"><div class=\"sk-label-container\"><div class=\"sk-label  sk-toggleable\"><input class=\"sk-toggleable__control sk-hidden--visually\" id=\"sk-estimator-id-2\" type=\"checkbox\" ><label for=\"sk-estimator-id-2\" class=\"sk-toggleable__label  sk-toggleable__label-arrow\"><div><div>pre: ColumnTransformer</div></div><div><a class=\"sk-estimator-doc-link \" rel=\"noreferrer\" target=\"_blank\" href=\"https://scikit-learn.org/1.6/modules/generated/sklearn.compose.ColumnTransformer.html\">?<span>Documentation for pre: ColumnTransformer</span></a></div></label><div class=\"sk-toggleable__content \"><pre>ColumnTransformer(transformers=[(&#x27;num&#x27;,\n",
              "                                 Pipeline(steps=[(&#x27;imputer&#x27;,\n",
              "                                                  SimpleImputer(strategy=&#x27;median&#x27;)),\n",
              "                                                 (&#x27;scaler&#x27;, StandardScaler())]),\n",
              "                                 [&#x27;age&#x27;, &#x27;bmi&#x27;, &#x27;cholesterol_level&#x27;,\n",
              "                                  &#x27;hypertension&#x27;, &#x27;asthma&#x27;, &#x27;cirrhosis&#x27;,\n",
              "                                  &#x27;other_cancer&#x27;]),\n",
              "                                (&#x27;cat&#x27;,\n",
              "                                 Pipeline(steps=[(&#x27;imputer&#x27;,\n",
              "                                                  SimpleImputer(strategy=&#x27;most_frequent&#x27;)),\n",
              "                                                 (&#x27;onehot&#x27;,\n",
              "                                                  OneHotEncoder(handle_unknown=&#x27;ignore&#x27;))]),\n",
              "                                 [&#x27;gender&#x27;, &#x27;cancer_stage&#x27;, &#x27;family_history&#x27;,\n",
              "                                  &#x27;smoking_status&#x27;, &#x27;treatment_type&#x27;])])</pre></div> </div></div><div class=\"sk-parallel\"><div class=\"sk-parallel-item\"><div class=\"sk-item\"><div class=\"sk-label-container\"><div class=\"sk-label  sk-toggleable\"><input class=\"sk-toggleable__control sk-hidden--visually\" id=\"sk-estimator-id-3\" type=\"checkbox\" ><label for=\"sk-estimator-id-3\" class=\"sk-toggleable__label  sk-toggleable__label-arrow\"><div><div>num</div></div></label><div class=\"sk-toggleable__content \"><pre>[&#x27;age&#x27;, &#x27;bmi&#x27;, &#x27;cholesterol_level&#x27;, &#x27;hypertension&#x27;, &#x27;asthma&#x27;, &#x27;cirrhosis&#x27;, &#x27;other_cancer&#x27;]</pre></div> </div></div><div class=\"sk-serial\"><div class=\"sk-item\"><div class=\"sk-serial\"><div class=\"sk-item\"><div class=\"sk-estimator  sk-toggleable\"><input class=\"sk-toggleable__control sk-hidden--visually\" id=\"sk-estimator-id-4\" type=\"checkbox\" ><label for=\"sk-estimator-id-4\" class=\"sk-toggleable__label  sk-toggleable__label-arrow\"><div><div>SimpleImputer</div></div><div><a class=\"sk-estimator-doc-link \" rel=\"noreferrer\" target=\"_blank\" href=\"https://scikit-learn.org/1.6/modules/generated/sklearn.impute.SimpleImputer.html\">?<span>Documentation for SimpleImputer</span></a></div></label><div class=\"sk-toggleable__content \"><pre>SimpleImputer(strategy=&#x27;median&#x27;)</pre></div> </div></div><div class=\"sk-item\"><div class=\"sk-estimator  sk-toggleable\"><input class=\"sk-toggleable__control sk-hidden--visually\" id=\"sk-estimator-id-5\" type=\"checkbox\" ><label for=\"sk-estimator-id-5\" class=\"sk-toggleable__label  sk-toggleable__label-arrow\"><div><div>StandardScaler</div></div><div><a class=\"sk-estimator-doc-link \" rel=\"noreferrer\" target=\"_blank\" href=\"https://scikit-learn.org/1.6/modules/generated/sklearn.preprocessing.StandardScaler.html\">?<span>Documentation for StandardScaler</span></a></div></label><div class=\"sk-toggleable__content \"><pre>StandardScaler()</pre></div> </div></div></div></div></div></div></div><div class=\"sk-parallel-item\"><div class=\"sk-item\"><div class=\"sk-label-container\"><div class=\"sk-label  sk-toggleable\"><input class=\"sk-toggleable__control sk-hidden--visually\" id=\"sk-estimator-id-6\" type=\"checkbox\" ><label for=\"sk-estimator-id-6\" class=\"sk-toggleable__label  sk-toggleable__label-arrow\"><div><div>cat</div></div></label><div class=\"sk-toggleable__content \"><pre>[&#x27;gender&#x27;, &#x27;cancer_stage&#x27;, &#x27;family_history&#x27;, &#x27;smoking_status&#x27;, &#x27;treatment_type&#x27;]</pre></div> </div></div><div class=\"sk-serial\"><div class=\"sk-item\"><div class=\"sk-serial\"><div class=\"sk-item\"><div class=\"sk-estimator  sk-toggleable\"><input class=\"sk-toggleable__control sk-hidden--visually\" id=\"sk-estimator-id-7\" type=\"checkbox\" ><label for=\"sk-estimator-id-7\" class=\"sk-toggleable__label  sk-toggleable__label-arrow\"><div><div>SimpleImputer</div></div><div><a class=\"sk-estimator-doc-link \" rel=\"noreferrer\" target=\"_blank\" href=\"https://scikit-learn.org/1.6/modules/generated/sklearn.impute.SimpleImputer.html\">?<span>Documentation for SimpleImputer</span></a></div></label><div class=\"sk-toggleable__content \"><pre>SimpleImputer(strategy=&#x27;most_frequent&#x27;)</pre></div> </div></div><div class=\"sk-item\"><div class=\"sk-estimator  sk-toggleable\"><input class=\"sk-toggleable__control sk-hidden--visually\" id=\"sk-estimator-id-8\" type=\"checkbox\" ><label for=\"sk-estimator-id-8\" class=\"sk-toggleable__label  sk-toggleable__label-arrow\"><div><div>OneHotEncoder</div></div><div><a class=\"sk-estimator-doc-link \" rel=\"noreferrer\" target=\"_blank\" href=\"https://scikit-learn.org/1.6/modules/generated/sklearn.preprocessing.OneHotEncoder.html\">?<span>Documentation for OneHotEncoder</span></a></div></label><div class=\"sk-toggleable__content \"><pre>OneHotEncoder(handle_unknown=&#x27;ignore&#x27;)</pre></div> </div></div></div></div></div></div></div></div></div><div class=\"sk-item\"><div class=\"sk-estimator  sk-toggleable\"><input class=\"sk-toggleable__control sk-hidden--visually\" id=\"sk-estimator-id-9\" type=\"checkbox\" ><label for=\"sk-estimator-id-9\" class=\"sk-toggleable__label  sk-toggleable__label-arrow\"><div><div>DummyClassifier</div></div><div><a class=\"sk-estimator-doc-link \" rel=\"noreferrer\" target=\"_blank\" href=\"https://scikit-learn.org/1.6/modules/generated/sklearn.dummy.DummyClassifier.html\">?<span>Documentation for DummyClassifier</span></a></div></label><div class=\"sk-toggleable__content \"><pre>DummyClassifier(random_state=42, strategy=&#x27;most_frequent&#x27;)</pre></div> </div></div></div></div></div></div>"
            ]
          },
          "metadata": {},
          "execution_count": 25
        }
      ]
    },
    {
      "cell_type": "markdown",
      "source": [
        "# Conclusão\n",
        "O diagrama  é uma representação visual precisa do código escrito para a linha de base. Ele ilustra a robustez da abordagem, que garante que todos os dados passem pelo mesmo conjunto de transformações antes de serem usados para treinar o modelo."
      ],
      "metadata": {
        "id": "AfmFygvp3J5w"
      }
    },
    {
      "cell_type": "markdown",
      "source": [
        "## Treino e avaliação rápida (baseline vs candidatos)"
      ],
      "metadata": {
        "id": "23M3bUWHFuBx"
      }
    },
    {
      "cell_type": "code",
      "source": [
        "\n",
        "\n",
        "results = {}\n",
        "\n",
        "# Adicionar a linha de base para comparação\n",
        "models_to_evaluate = {\"Baseline\": baseline}\n",
        "models_to_evaluate.update(candidates)\n",
        "\n",
        "scoring = {\n",
        "    'accuracy': make_scorer(accuracy_score),\n",
        "    'recall': make_scorer(recall_score),\n",
        "    'precision': make_scorer(precision_score),\n",
        "    'f1_score': make_scorer(f1_score)\n",
        "}\n",
        "\n",
        "\n",
        "# Iterar sobre cada modelo e aplicar a validação cruzada\n",
        "for name, pipeline in models_to_evaluate.items():\n",
        "    print(f\"Avaliando o modelo: {name}...\")\n",
        "\n",
        "    # Criar a estratégia de validação cruzada estratificada\n",
        "    cv = StratifiedKFold(n_splits=5, shuffle=True, random_state=SEED)\n",
        "\n",
        "    # Executar a validação cruzada e calcular as métricas\n",
        "    scores = cross_validate(pipeline, X_train, y_train, cv=cv, scoring=scoring)\n",
        "\n",
        "    # Armazenar a média das métricas em um DataFrame\n",
        "    results[name] = {\n",
        "        'Accuracy': scores['test_accuracy'].mean(),\n",
        "        'Recall': scores['test_recall'].mean(),\n",
        "        'Precision': scores['test_precision'].mean(),\n",
        "        'F1-Score': scores['test_f1_score'].mean()\n",
        "    }\n",
        "\n",
        "# Converter os resultados em um DataFrame para facilitar a visualização\n",
        "results_df = pd.DataFrame(results).T\n",
        "\n",
        "# Imprimir os resultados\n",
        "print(\"\\nResultados da Avaliação dos Modelos:\")\n",
        "print(results_df)"
      ],
      "metadata": {
        "colab": {
          "base_uri": "https://localhost:8080/"
        },
        "id": "mH4FSFcZ3_to",
        "outputId": "f3000efe-9771-4edd-dc61-bec2787090bb"
      },
      "execution_count": null,
      "outputs": [
        {
          "output_type": "stream",
          "name": "stdout",
          "text": [
            "Avaliando o modelo: Baseline...\n",
            "Avaliando o modelo: LogisticRegression...\n",
            "Avaliando o modelo: RandomForest...\n",
            "Avaliando o modelo: KNN...\n",
            "Avaliando o modelo: CART...\n",
            "Avaliando o modelo: NB...\n",
            "Avaliando o modelo: AdaBoostClassifier...\n",
            "Avaliando o modelo: GradientBoostingClassifier...\n",
            "\n",
            "Resultados da Avaliação dos Modelos:\n",
            "                            Accuracy    Recall  Precision  F1-Score\n",
            "Baseline                    0.780440  0.000000   0.000000  0.000000\n",
            "LogisticRegression          0.780440  0.000000   0.000000  0.000000\n",
            "RandomForest                0.768102  0.025873   0.239327  0.046692\n",
            "KNN                         0.739283  0.075395   0.222933  0.112679\n",
            "CART                        0.642003  0.246433   0.219378  0.232116\n",
            "NB                          0.780440  0.000000   0.000000  0.000000\n",
            "AdaBoostClassifier          0.780434  0.000000   0.000000  0.000000\n",
            "GradientBoostingClassifier  0.780434  0.000051   0.133333  0.000102\n"
          ]
        }
      ]
    },
    {
      "cell_type": "markdown",
      "source": [
        "## Gráficos de Resultados do modelos"
      ],
      "metadata": {
        "id": "q6ermjPGUXX8"
      }
    },
    {
      "cell_type": "code",
      "source": [
        "dados = {\n",
        "    'Modelo': ['Baseline', 'LogisticRegression', 'RandomForest', 'KNN', 'CART', 'NB', 'AdaBoostClassifier', 'GradientBoostingClassifier'],\n",
        "    'Accuracy': [0.780440, 0.780440, 0.768102, 0.739283, 0.642003, 0.780440, 0.780434, 0.780434],\n",
        "    'Recall': [0.000000, 0.000000, 0.025873, 0.075395, 0.246433, 0.000000, 0.000000, 0.000051],\n",
        "    'Precision': [0.000000, 0.000000, 0.239327, 0.222933, 0.219378, 0.000000, 0.000000, 0.133333],\n",
        "    'F1-Score': [0.000000, 0.000000, 0.046692, 0.112679, 0.232116, 0.000000, 0.000000, 0.000102]\n",
        "}\n",
        "\n",
        "df = pd.DataFrame(dados)\n",
        "\n",
        "# 2. Configuração do Gráfico de Barras Duplo (Recall vs F1-Score)\n",
        "# Estas são as métricas mais relevantes para classes desbalanceadas.\n",
        "metrics = ['Recall', 'F1-Score']\n",
        "bar_width = 0.35\n",
        "r = np.arange(len(df['Modelo']))\n",
        "\n",
        "plt.figure(figsize=(14, 7))\n",
        "\n",
        "# Criar barras para Recall\n",
        "plt.bar(r, df['Recall'], color='skyblue', width=bar_width, edgecolor='grey', label='Recall')\n",
        "# Criar barras para F1-Score (deslocadas)\n",
        "plt.bar(r + bar_width, df['F1-Score'], color='coral', width=bar_width, edgecolor='grey', label='F1-Score')\n",
        "\n",
        "# 3. Personalização\n",
        "plt.xlabel('Modelo', fontweight='bold', fontsize=12)\n",
        "plt.ylabel('Score (0.0 a 1.0)', fontweight='bold', fontsize=12)\n",
        "plt.xticks(r + bar_width/2, df['Modelo'], rotation=45, ha='right', fontsize=10)\n",
        "plt.title('Comparação de Recall e F1-Score dos Modelos de Classificação', fontsize=14, fontweight='bold')\n",
        "plt.legend()\n",
        "plt.grid(axis='y', linestyle='--', alpha=0.6)\n",
        "plt.tight_layout() # Ajusta para evitar cortes\n",
        "plt.show()\n",
        "\n",
        "# 4. Gráfico para Acurácia (Opcional, mas útil para contexto)\n",
        "plt.figure(figsize=(14, 5))\n",
        "plt.bar(df['Modelo'], df['Accuracy'], color='lightgreen')\n",
        "plt.ylabel('Acurácia (Accuracy)', fontweight='bold', fontsize=12)\n",
        "plt.title('Acurácia (Accuracy) dos Modelos', fontsize=14, fontweight='bold')\n",
        "plt.xticks(rotation=45, ha='right', fontsize=10)\n",
        "plt.ylim(0.5, 0.8) # Limita o eixo Y para destacar as pequenas diferenças\n",
        "plt.grid(axis='y', linestyle='--', alpha=0.6)\n",
        "plt.tight_layout()\n",
        "plt.show()"
      ],
      "metadata": {
        "colab": {
          "base_uri": "https://localhost:8080/",
          "height": 1000
        },
        "id": "4J6VgDXDUNRr",
        "outputId": "1617a934-a973-407d-91b7-cbad146da29a"
      },
      "execution_count": 26,
      "outputs": [
        {
          "output_type": "display_data",
          "data": {
            "text/plain": [
              "<Figure size 1400x700 with 1 Axes>"
            ],
            "image/png": "[encoded data removed]"
          },
          "metadata": {}
        },
        {
          "output_type": "display_data",
          "data": {
            "text/plain": [
              "<Figure size 1400x500 with 1 Axes>"
            ],
            "image/png": "[encoded data removed]"
          },
          "metadata": {}
        }
      ]
    },
    {
      "cell_type": "markdown",
      "source": [
        "## Conclusão\n",
        "Após a análise dos resultados, a escolha do modelo CART (Classification and Regression Tree) como a melhor opção é clara e estratégica. Embora a  acurácia aparente seja a mais baixa, métricas mais reveladoras como Recall e F1-Score confirmam que ele é o único modelo que consegue, de fato, extrair informações relevantes dos dados.\n",
        "\n",
        "A maioria dos outros modelos falhou completamente em lidar com o desbalanceamento das classes, resultando em um Recall e F1-Score de zero. Isso sugere que eles simplesmente aprenderam a prever a classe majoritária, resultando em uma ilusão de bom desempenho através de uma alta acurácia, mas falhando miseravelmente em identificar os casos da classe minoritária, que são os mais importantes para o problema em questão."
      ],
      "metadata": {
        "id": "YMuIDVzk-A5h"
      }
    },
    {
      "cell_type": "markdown",
      "source": [
        "## Treino e avaliação rápida (baseline vs candidatos) -  Com função SMOTE() para melhorar o desbalaceamento das classes."
      ],
      "metadata": {
        "id": "Fc5pH-L6lDVM"
      }
    },
    {
      "cell_type": "code",
      "source": [
        "\n",
        "SEED = 42\n",
        "smote = SMOTE(sampling_strategy='auto', random_state=SEED)\n",
        "\n",
        "# Adicionar o SMOTE ao pipeline\n",
        "# Note que usamos 'imblearn.pipeline.Pipeline' para compatibilidade\n",
        "# com os métodos de amostragem\n",
        "pipeline_with_smote = ImbPipeline(steps=[('preprocess', preprocess),\n",
        "                                          ('smote', smote),\n",
        "                                          ('classifier', DecisionTreeClassifier(random_state=SEED))])\n",
        "\n",
        "# Dicionário de modelos para avaliação\n",
        "models_to_evaluate = {\n",
        "    \"CART\": pipeline_with_smote,\n",
        "    # Você pode adicionar outros modelos aqui, como o LogisticRegression ou o RandomForest,\n",
        "    # também dentro de um pipeline com SMOTE para comparação.\n",
        "}\n",
        "\n",
        "results = {}\n",
        "scoring = {\n",
        "    'accuracy': make_scorer(accuracy_score),\n",
        "    'recall': make_scorer(recall_score),\n",
        "    'precision': make_scorer(precision_score),\n",
        "    'f1_score': make_scorer(f1_score)\n",
        "}\n",
        "\n",
        "# Iterar sobre cada modelo e aplicar a validação cruzada\n",
        "for name, pipeline in models_to_evaluate.items():\n",
        "    print(f\"Avaliando o modelo: {name}...\")\n",
        "\n",
        "    cv = StratifiedKFold(n_splits=5, shuffle=True, random_state=SEED)\n",
        "\n",
        "    scores = cross_validate(pipeline, X_train, y_train, cv=cv, scoring=scoring)\n",
        "\n",
        "    results[name] = {\n",
        "        'Accuracy': scores['test_accuracy'].mean(),\n",
        "        'Recall': scores['test_recall'].mean(),\n",
        "        'Precision': scores['test_precision'].mean(),\n",
        "        'F1-Score': scores['test_f1_score'].mean()\n",
        "    }\n",
        "\n",
        "# Converter os resultados em um DataFrame para facilitar a visualização\n",
        "results_df = pd.DataFrame(results).T\n",
        "\n",
        "# Imprimir os resultados\n",
        "print(\"\\nResultados da Avaliação dos Modelos com SMOTE:\")\n",
        "print(results_df)"
      ],
      "metadata": {
        "colab": {
          "base_uri": "https://localhost:8080/"
        },
        "id": "KBWZ5APbThtE",
        "outputId": "a718114c-635e-46e7-d403-5fae8f918e94"
      },
      "execution_count": null,
      "outputs": [
        {
          "output_type": "stream",
          "name": "stdout",
          "text": [
            "Avaliando o modelo: CART...\n",
            "\n",
            "Resultados da Avaliação dos Modelos com SMOTE:\n",
            "      Accuracy  Recall  Precision  F1-Score\n",
            "CART  0.637934  0.2528   0.218923  0.234643\n"
          ]
        }
      ]
    },
    {
      "cell_type": "markdown",
      "source": [
        "## Conclusão\n",
        "A inclusão do SMOTE no pipeline de avaliação foi uma estratégia válida e mostrou um impacto positivo. A leve melhoria no Recall e no F1-Score demonstra que a técnica está ajudando o modelo CART a lidar com o desbalanceamento, permitindo que ele identifique um pouco mais da classe minoritária. Embora o aumento não seja drástico, ele indica que o modelo está no caminho certo e que a estratégia de reamostragem está funcionando conforme o esperado."
      ],
      "metadata": {
        "id": "wFlOqz6HVf5m"
      }
    },
    {
      "cell_type": "markdown",
      "source": [
        "## Otimização dos hiperparâmetros no modelo  -  CART"
      ],
      "metadata": {
        "id": "hgHcscZP9au_"
      }
    },
    {
      "cell_type": "code",
      "source": [
        "\n",
        "SEED = 42\n",
        "pipeline_with_smote = ImbPipeline(steps=[('preprocess', preprocess),\n",
        "                                         ('smote', SMOTE(random_state=SEED)),\n",
        "                                         ('classifier', DecisionTreeClassifier(random_state=SEED))])\n",
        "\n",
        "\n",
        "# Defina a grade de hiperparâmetros a ser testada\n",
        "param_grid = {\n",
        "    'classifier__max_depth': [3, 5, 7, 10, None],  # 'None' significa sem limite de profundidade\n",
        "    'classifier__min_samples_split': [2, 5, 10],\n",
        "    'classifier__min_samples_leaf': [1, 2, 4],\n",
        "    'classifier__criterion': ['gini', 'entropy']\n",
        "}\n",
        "\n",
        "# Criar a busca por hiperparâmetros\n",
        "grid_search = GridSearchCV(\n",
        "    pipeline_with_smote,\n",
        "    param_grid,\n",
        "    scoring='f1',  # Otimizar para o F1-Score\n",
        "    cv=StratifiedKFold(n_splits=5, shuffle=True, random_state=SEED),\n",
        "    n_jobs=-1  # Usar todos os núcleos do processador\n",
        ")\n",
        "\n",
        "# Executar a busca\n",
        "grid_search.fit(X_train, y_train)\n",
        "\n",
        "# Exibir os melhores parâmetros e a melhor pontuação\n",
        "print(\"Melhores parâmetros encontrados:\", grid_search.best_params_)\n",
        "print(\"Melhor F1-Score:\", grid_search.best_score_)\n",
        "\n",
        "\n"
      ],
      "metadata": {
        "colab": {
          "base_uri": "https://localhost:8080/"
        },
        "id": "ENTf0aeb_O_p",
        "outputId": "e0854a0d-4b13-4463-fda0-0a2859f6ebfd"
      },
      "execution_count": null,
      "outputs": [
        {
          "output_type": "stream",
          "name": "stdout",
          "text": [
            "Melhores parâmetros encontrados: {'classifier__criterion': 'entropy', 'classifier__max_depth': 3, 'classifier__min_samples_leaf': 1, 'classifier__min_samples_split': 2}\n",
            "Melhor F1-Score: 0.35499772586373635\n"
          ]
        }
      ]
    },
    {
      "cell_type": "markdown",
      "source": [
        "## Conclusão\n",
        "A otimização de hiperparâmetros foi um sucesso. O modelo CART, que antes tinha um F1-Score de 0.232 (sem otimização e sem SMOTE), agora alcançou um F1-Score de aproximadamente 0.355. Esse aumento é significativo e demonstra que a combinação de SMOTE com o ajuste fino do modelo teve um impacto positivo e substancial."
      ],
      "metadata": {
        "id": "Rmo3SiNLBXOJ"
      }
    },
    {
      "cell_type": "markdown",
      "source": [
        "## Avaliação final, análise de erros e limitações"
      ],
      "metadata": {
        "id": "xq1RUHJFGm4v"
      }
    },
    {
      "cell_type": "code",
      "source": [
        "\n",
        "# Obtenha o melhor modelo a partir da busca em grade\n",
        "model = grid_search.best_estimator_\n",
        "\n",
        "# Faça previsões no conjunto de teste\n",
        "y_pred = model.predict(X_test)\n",
        "\n",
        "# Imprima o relatório de classificação completo\n",
        "print(\"Relatório de Classificação no Conjunto de Teste:\")\n",
        "print(classification_report(y_test, y_pred, target_names=['Não Sobreviveu', 'Sobreviveu']))"
      ],
      "metadata": {
        "colab": {
          "base_uri": "https://localhost:8080/"
        },
        "id": "Pgtn-cczCKPe",
        "outputId": "42e24133-d91d-4379-ef1f-410bcfb7ca3f"
      },
      "execution_count": null,
      "outputs": [
        {
          "output_type": "stream",
          "name": "stdout",
          "text": [
            "Relatório de Classificação no Conjunto de Teste:\n",
            "                precision    recall  f1-score   support\n",
            "\n",
            "Não Sobreviveu       0.77      0.08      0.14     34758\n",
            "    Sobreviveu       0.22      0.92      0.35      9779\n",
            "\n",
            "      accuracy                           0.26     44537\n",
            "     macro avg       0.49      0.50      0.25     44537\n",
            "  weighted avg       0.65      0.26      0.19     44537\n",
            "\n"
          ]
        }
      ]
    },
    {
      "cell_type": "markdown",
      "source": [
        "\n",
        "## Conclusão Final e próximos passos\n",
        "O modelo com SMOTE e a otimização de hiperparâmetros conseguiu focar com sucesso na classe minoritária (\"Sobreviveu\"). O Recall de 92% é uma conquista notável e demonstra que o modelo é altamente sensível a essa classe.\n",
        "\n",
        "No entanto, o alto Recall veio com o custo de uma baixa Precision (22%) e de um desempenho ruim na classe majoritária. Isso sugere um trade-off (compromisso) que pode ser ajustado. Se a prioridade é encontrar o máximo de casos positivos (minimizar falsos negativos), o modelo atual é uma ótima escolha. Se a prioridade é ter mais confiança nas previsões positivas (minimizar falsos positivos), você pode ajustar o limiar de decisão do modelo.\n",
        "\n",
        "O próximo passo seria tentar encontrar um melhor equilíbrio entre Precision e Recall. Isso pode ser feito de algumas maneiras:\n",
        "\n",
        "Ajustar o Limiar de Decisão: Em vez de usar a previsão padrão (probabilidade > 0.5), você pode mover este limite para obter um balanço mais favorável.\n",
        "\n",
        "Explorar Modelos Mais Complexos: Tente otimizar outros modelos mais robustos, como o Gradient Boosting ou XGBoost, que podem ter um desempenho melhor em ambas as classes.\n",
        "\n",
        "Ajustar o SMOTE: Você pode experimentar diferentes sampling_strategy no SMOTE para controlar a quantidade de amostras sintéticas criadas, o que pode ajudar a calibrar o balanço entre as classes.\n",
        "\n"
      ],
      "metadata": {
        "id": "Trn07mcEINz2"
      }
    }
  ],
  "metadata": {
    "colab": {
      "provenance": []
    },
    "kernelspec": {
      "display_name": "Python 3",
      "name": "python3"
    },
    "language_info": {
      "name": "python"
    }
  },
  "nbformat": 4,
  "nbformat_minor": 0
}